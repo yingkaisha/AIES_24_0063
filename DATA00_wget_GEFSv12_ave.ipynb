{
 "cells": [
  {
   "cell_type": "markdown",
   "id": "a0d95b56-6124-4f90-8183-c17f90af1aa1",
   "metadata": {},
   "source": [
    "# GEFS operational ensemble mean wget cmd generator\n",
    "\n",
    "This notebook generates qsub scripts to download operational GEFS ensemble mean\n",
    "* Source: https://noaa-gefs-pds.s3.amazonaws.com/"
   ]
  },
  {
   "cell_type": "code",
   "execution_count": 1,
   "id": "e4e88911-1838-477d-934a-391f92d0d53f",
   "metadata": {},
   "outputs": [],
   "source": [
    "import os\n",
    "import numpy as np\n",
    "from datetime import datetime, timedelta"
   ]
  },
  {
   "cell_type": "code",
   "execution_count": null,
   "id": "0c66439b-8a5f-4e2e-aed5-0c64e6ac208c",
   "metadata": {},
   "outputs": [],
   "source": [
    "import sys\n",
    "sys.path.insert(0, '/glade/u/home/ksha/GAN_proj/')\n",
    "from namelist import *"
   ]
  },
  {
   "cell_type": "code",
   "execution_count": 4,
   "id": "ae3f28b0-53c0-4c8f-8210-37ee183d9e36",
   "metadata": {},
   "outputs": [],
   "source": [
    "keys = ['geavg',]\n",
    "\n",
    "key_leads = []\n",
    "\n",
    "for i in range(3, 168+3, 3):\n",
    "    key_leads.append('{:03d}'.format(i))"
   ]
  },
  {
   "cell_type": "code",
   "execution_count": 14,
   "id": "78220459-ed92-45ce-9ab8-c18fa4c3a000",
   "metadata": {},
   "outputs": [],
   "source": [
    "base = datetime(2020, 1, 1)\n",
    "date_list = [base + timedelta(days=day) for day in range(366)]"
   ]
  },
  {
   "cell_type": "markdown",
   "id": "64025dab-5d2f-477e-ad2e-63221f6841f4",
   "metadata": {},
   "source": [
    "## Fill-in-the-gap version"
   ]
  },
  {
   "cell_type": "code",
   "execution_count": 15,
   "id": "14921191-abd5-4e15-ae37-ea6780b4db41",
   "metadata": {},
   "outputs": [],
   "source": [
    "# check if files exist\n",
    "date_list_fill = []\n",
    "\n",
    "for dt in date_list:\n",
    "    \n",
    "    dt_str = datetime.strftime(dt, '%Y%m%d')\n",
    "    filename = camp_dir+'wget_GEFSv12/{}_done.txt'.format(dt_str)\n",
    "    \n",
    "    if os.path.isfile(filename):\n",
    "        continue;\n",
    "    else:\n",
    "        date_list_fill.append(dt)\n",
    "        "
   ]
  },
  {
   "cell_type": "code",
   "execution_count": 18,
   "id": "ca3c5879-bfe7-4a8b-b25a-a313f8075231",
   "metadata": {},
   "outputs": [
    {
     "name": "stdout",
     "output_type": "stream",
     "text": [
      "need to download 1 files\n"
     ]
    }
   ],
   "source": [
    "L_fill = len(date_list_fill)\n",
    "print('need to download {} files'.format(L_fill))\n",
    "#date_list_fill = date_list_fill[::-1]"
   ]
  },
  {
   "cell_type": "markdown",
   "id": "331ebde5-f8f9-483a-8bd1-1ce6556edd96",
   "metadata": {},
   "source": [
    "## Generate qsub scripts"
   ]
  },
  {
   "cell_type": "code",
   "execution_count": 20,
   "id": "2146c7b7-fa47-487e-8ff2-206ea4fb25d9",
   "metadata": {},
   "outputs": [],
   "source": [
    "N = int(L_fill/4) + 1\n",
    "index = np.arange(0, L_fill, N)\n",
    "\n",
    "for i_, i_start in enumerate(index):\n",
    "\n",
    "    f = open(work_dir+'qsub/wget_gefs_{:03d}.sh'.format(i_), 'w') \n",
    "    \n",
    "    heads = '''\n",
    "    #!/bin/bash -l\n",
    "    \n",
    "    #PBS -N wget_gefs\n",
    "    #PBS -A NAML0001\n",
    "    #PBS -l walltime=23:59:59\n",
    "    #PBS -l select=1:ncpus=4:mem=12GB\n",
    "    #PBS -q casper\n",
    "    #PBS -o wget_gefs.log\n",
    "    #PBS -e wget_gefs.err\n",
    "    \n",
    "    cd {}wget_GEFSv12/\n",
    "    \n",
    "    '''.format(camp_dir)\n",
    "    \n",
    "    print(heads, file=f)\n",
    "    \n",
    "    for i in range(i_start, i_start+N, 1):\n",
    "        if i < L_fill:\n",
    "            dt = date_list_fill[i]\n",
    "            dt_str = datetime.strftime(dt, '%Y%m%d')\n",
    "            \n",
    "            for member in keys:\n",
    "                for ff in key_leads:\n",
    "                    download_link = 'https://noaa-gefs-pds.s3.amazonaws.com/gefs.{}/00/atmos/pgrb2sp25/{}.t00z.pgrb2s.0p25.f{}'.format(\n",
    "                        dt_str, member, ff)\n",
    "                    \n",
    "                    save_name = '{}_00_{}.t00z.pgrb2s.0p25.f{}'.format(dt_str, member, ff)\n",
    "                    \n",
    "                    print('wget -L -O {} {}'.format(save_name, download_link), file=f)\n",
    "                    \n",
    "            print('touch {}_done.txt'.format(dt_str), file=f)\n",
    "    \n",
    "    f.close()\n",
    "\n",
    "f = open(work_dir+'wget_gefs_all.sh', 'w')\n",
    "\n",
    "for i_, i_start in enumerate(index):\n",
    "    print('qsub wget_gefs_{:03d}.sh'.format(i_), file=f)\n",
    "    \n",
    "f.close()"
   ]
  },
  {
   "cell_type": "code",
   "execution_count": null,
   "id": "282a4c16-d2ed-46eb-832d-64e3d18eb241",
   "metadata": {},
   "outputs": [],
   "source": []
  }
 ],
 "metadata": {
  "kernelspec": {
   "display_name": "Python 3 (ipykernel)",
   "language": "python",
   "name": "python3"
  },
  "language_info": {
   "codemirror_mode": {
    "name": "ipython",
    "version": 3
   },
   "file_extension": ".py",
   "mimetype": "text/x-python",
   "name": "python",
   "nbconvert_exporter": "python",
   "pygments_lexer": "ipython3",
   "version": "3.10.13"
  }
 },
 "nbformat": 4,
 "nbformat_minor": 5
}
