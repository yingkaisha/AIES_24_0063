{
 "cells": [
  {
   "cell_type": "markdown",
   "id": "0d9e0abe-22a0-452a-b47b-049921603459",
   "metadata": {},
   "source": [
    "# Model inference pipeline\n",
    "\n",
    "This notebook illustrates the inference pipeline of this research (e.g., from GEFS 31 member raw forecasts to generated 155 members)."
   ]
  },
  {
   "cell_type": "code",
   "execution_count": 1,
   "id": "faff0e75-1225-4abe-b3c3-50afe7354c19",
   "metadata": {},
   "outputs": [],
   "source": [
    "import os\n",
    "import sys\n",
    "import time\n",
    "import h5py\n",
    "import numba as nb\n",
    "import numpy as np\n",
    "from glob import glob\n",
    "\n",
    "# ------------------------------------------------------- #\n",
    "# Turn-off warnings\n",
    "import logging\n",
    "import warnings\n",
    "\n",
    "warnings.filterwarnings(\"ignore\")\n",
    "os.environ['TF_CPP_MIN_LOG_LEVEL'] = '3' \n",
    "logging.getLogger(\"tensorflow\").setLevel(logging.ERROR)\n",
    "\n",
    "# ------------------------------------------------------- #\n",
    "# Turn-off tensoflow-specific warnings\n",
    "import tensorflow as tf\n",
    "from tensorflow import keras\n",
    "from tensorflow.keras import layers\n",
    "\n",
    "tf.autograph.set_verbosity(0)\n",
    "tf.get_logger().setLevel('ERROR')\n",
    "\n",
    "# ------------------------------------------------------- #\n",
    "# Import customized modules and settings\n",
    "sys.path.insert(0, '/glade/u/home/ksha/GAN_proj/')\n",
    "sys.path.insert(0, '/glade/u/home/ksha/GAN_proj/libs/')\n",
    "\n",
    "from namelist import *\n",
    "import data_utils as du\n",
    "import model_utils as mu\n",
    "import verif_utils as vu\n",
    "import graph_utils as gu"
   ]
  },
  {
   "cell_type": "code",
   "execution_count": 2,
   "id": "fb5c01e4-9e4f-47ca-9388-7c10f207e741",
   "metadata": {},
   "outputs": [],
   "source": [
    "import matplotlib.pyplot as plt\n",
    "%matplotlib inline"
   ]
  },
  {
   "cell_type": "code",
   "execution_count": 3,
   "id": "3271206a-68a7-46ab-bd78-a010df3334ec",
   "metadata": {},
   "outputs": [],
   "source": [
    "# import importlib\n",
    "# importlib.reload(mu)"
   ]
  },
  {
   "cell_type": "code",
   "execution_count": 4,
   "id": "3057a8e6-302e-4fd7-9486-66888d819bc6",
   "metadata": {},
   "outputs": [],
   "source": [
    "# mu.set_seeds(888)"
   ]
  },
  {
   "cell_type": "markdown",
   "id": "81d67f75-3fc8-4f31-8f2f-9e55db5e8ef9",
   "metadata": {},
   "source": [
    "## Model imports\n",
    "\n",
    "### VQ-VAE"
   ]
  },
  {
   "cell_type": "code",
   "execution_count": 5,
   "id": "fe784d15-75e5-4bbe-b48e-d4ce830b8254",
   "metadata": {},
   "outputs": [],
   "source": [
    "# Hyperparameters\n",
    "filter_nums = [64, 128] # number of convolution kernels per down-/upsampling layer \n",
    "latent_dim = 4 # number of latent feature channels\n",
    "activation = 'gelu' # activation function\n",
    "num_embeddings = 128 #128 # number of the VQ codes\n",
    "\n",
    "input_size = (224, 464, 1) # size of MRMS input\n",
    "latent_size = (14, 29, latent_dim) # size of compressed latent features\n",
    "\n",
    "drop_encode = True\n",
    "drop_decode = True\n",
    "\n",
    "model_name_encoder_load = model_dir+'models/VQ_VAE_encoder_stack1_tune0'\n",
    "model_name_decoder_load = model_dir+'models/VQ_VAE_decoder_stack1_tune0'\n",
    "\n",
    "'VQ_VAE_decoder_stack1_pretrain'\n",
    "\n",
    "encoder = mu.VQ_VAE_encoder(input_size, filter_nums, latent_dim, num_embeddings, activation, drop_encode)\n",
    "W_old = mu.dummy_loader(model_name_encoder_load)\n",
    "encoder.set_weights(W_old)\n",
    "\n",
    "decoder = mu.VQ_VAE_decoder(latent_size, filter_nums, activation, drop_decode)\n",
    "W_old = mu.dummy_loader(model_name_decoder_load)\n",
    "decoder.set_weights(W_old)"
   ]
  },
  {
   "cell_type": "markdown",
   "id": "9bd63f1c-8dd4-4573-9b65-387a8b2cc775",
   "metadata": {},
   "source": [
    "### Improved decoder blocks with elev and clim inputs"
   ]
  },
  {
   "cell_type": "code",
   "execution_count": 6,
   "id": "1c74dc31-d205-49b5-8e06-0bce088161a6",
   "metadata": {},
   "outputs": [],
   "source": [
    "# Hyperparameters\n",
    "input_size = (224, 464, 3)\n",
    "filter_nums = [32, 64, 32]\n",
    "\n",
    "model_name_load = model_dir+'models/VAE_refine_tune/'\n",
    "\n",
    "decoder_refine = mu.VQ_VAE_refine_blocks(input_size, filter_nums)\n",
    "W_old = mu.dummy_loader(model_name_load)\n",
    "decoder_refine.set_weights(W_old)"
   ]
  },
  {
   "cell_type": "markdown",
   "id": "a8b8935b-51be-42fa-b77a-ded47766d542",
   "metadata": {},
   "source": [
    "### ViT corrector"
   ]
  },
  {
   "cell_type": "code",
   "execution_count": 7,
   "id": "402e328d-a513-4055-8dbd-1b316701300e",
   "metadata": {},
   "outputs": [],
   "source": [
    "input_size = (8, 14, 29, 4)\n",
    "patch_size = (1, 1, 1) # (time, space, space)\n",
    "\n",
    "N_heads = 4\n",
    "N_layers = 8\n",
    "project_dim = 128\n",
    "\n",
    "model_name_load_48h = model_dir+'baseline/ViT3d_0_48_depth8_patch111_dim128_heads4_tune2'\n",
    "model_name_load_96h = model_dir+'baseline/ViT3d_54_96_depth8_patch111_dim128_heads4_tune2'\n",
    "model_name_load_144h = model_dir+'baseline/ViT3d_102_144_depth8_patch111_dim128_heads4_tune2'\n",
    "\n",
    "model_48h = mu.ViT3d_corrector(input_size, input_size, patch_size, project_dim, N_layers, N_heads)\n",
    "W_old = mu.dummy_loader(model_name_load_48h)\n",
    "model_48h.set_weights(W_old)\n",
    "\n",
    "model_96h = mu.ViT3d_corrector(input_size, input_size, patch_size, project_dim, N_layers, N_heads)\n",
    "W_old = mu.dummy_loader(model_name_load_96h)\n",
    "model_96h.set_weights(W_old)\n",
    "\n",
    "model_144h = mu.ViT3d_corrector(input_size, input_size, patch_size, project_dim, N_layers, N_heads)\n",
    "W_old = mu.dummy_loader(model_name_load_144h)\n",
    "model_144h.set_weights(W_old)"
   ]
  },
  {
   "cell_type": "markdown",
   "id": "3ad33f5e-d715-49f3-985e-4af7306b7c80",
   "metadata": {},
   "source": [
    "## Diffusion model"
   ]
  },
  {
   "cell_type": "code",
   "execution_count": 8,
   "id": "4f73ce57-6995-4a73-bc54-05991b22b681",
   "metadata": {},
   "outputs": [
    {
     "data": {
      "text/plain": [
       "<tensorflow.python.checkpoint.checkpoint.CheckpointLoadStatus at 0x14e3a6f82860>"
      ]
     },
     "execution_count": 8,
     "metadata": {},
     "output_type": "execute_result"
    }
   ],
   "source": [
    "# The tensor size of embedded CCPA and GEFS ensemble mean \n",
    "input_size = (24, 14, 29, 4)\n",
    "\n",
    "# model design\n",
    "widths = [32, 64, 96, 128]\n",
    "embedding_dims = 32\n",
    "block_depth = 2\n",
    "\n",
    "diffusion_steps = 100\n",
    "min_signal_rate = 0.02\n",
    "max_signal_rate = 0.95\n",
    "ema = 0.999\n",
    "\n",
    "# location of the previous weights\n",
    "model_name_load = model_dir+'baseline/LDM_step{:02d}_base/'.format(diffusion_steps)\n",
    "\n",
    "LDM = mu.DiffusionModel(input_size, input_size, input_size, \n",
    "                        diffusion_steps, min_signal_rate, max_signal_rate, \n",
    "                        embedding_dims, widths, block_depth, ema)\n",
    "\n",
    "LDM.load_weights(model_name_load)"
   ]
  },
  {
   "cell_type": "markdown",
   "id": "198bf01b-1b5b-4c1c-afa5-98fad58f462a",
   "metadata": {},
   "source": [
    "## Inference pipeline"
   ]
  },
  {
   "cell_type": "markdown",
   "id": "84b3070e-9a95-4d6f-a78b-1d9a8963c097",
   "metadata": {},
   "source": [
    "**Parameters & Helper functions**"
   ]
  },
  {
   "cell_type": "code",
   "execution_count": 9,
   "id": "192c00fb-b591-4720-be95-83177f45aced",
   "metadata": {},
   "outputs": [],
   "source": [
    "iday0 = 0\n",
    "iday1 = 10\n",
    "N_gen = 5 # generate # samples per GEFS ensemble member"
   ]
  },
  {
   "cell_type": "code",
   "execution_count": 10,
   "id": "2123ba49-404c-4f2a-a4ff-3ac50b56d81f",
   "metadata": {},
   "outputs": [],
   "source": [
    "# the rescale value of LDM input\n",
    "ccpa_min = -2.0606\n",
    "ccpa_max = 1.6031\n",
    "\n",
    "# latent space feature size\n",
    "latent_size = (14, 29, 4)\n",
    "\n",
    "# output size\n",
    "ccpa_shape = (224, 464)\n",
    "\n",
    "# Lead time information\n",
    "LEADs = np.arange(6, 144+6, 6) # forecast lead times\n",
    "N_leads = len(LEADs)\n",
    "\n",
    "# helper functions\n",
    "\n",
    "def norm_precip(x):\n",
    "    return np.log(0.1*x+1)\n",
    "\n",
    "def norm_elev(x):\n",
    "    return x / np.nanmax(x)\n",
    "\n",
    "def rescale(x, min_val=ccpa_min, max_val=ccpa_max):\n",
    "    return ((x - min_val) / (max_val - min_val))* 2 - 1\n",
    "\n",
    "def scaleback(x, min_val=ccpa_min, max_val=ccpa_max):\n",
    "    return 0.5*(x+1)*(max_val-min_val) + min_val\n",
    "\n",
    "def to_precip(x):\n",
    "    x[x<0] = 0\n",
    "    return 10*(np.exp(x) - 1)\n",
    "\n",
    "def ViT_pred(x, model_48, model_96, model_144):\n",
    "    Y_pred_48 = model_48.predict(x[:, 0:8, ...], verbose=0)\n",
    "    Y_pred_96 = model_96.predict(x[:, 8:16, ...], verbose=0)\n",
    "    Y_pred_144 = model_144.predict(x[:, 16:24, ...], verbose=0)\n",
    "    Y_pred = np.concatenate((Y_pred_48, Y_pred_96, Y_pred_144), axis=1)\n",
    "    return Y_pred"
   ]
  },
  {
   "cell_type": "markdown",
   "id": "b91ee005-9349-40ec-b07a-f1a1fe1144cc",
   "metadata": {},
   "source": [
    "**Geographical & climatological info**"
   ]
  },
  {
   "cell_type": "code",
   "execution_count": 11,
   "id": "76baa57d-5240-4e20-828f-9746303b7430",
   "metadata": {},
   "outputs": [],
   "source": [
    "# land mask and the actual shape of the CCPA CONUS domain\n",
    "with h5py.File(save_dir+'CCPA_domain.hdf', 'r') as h5io:\n",
    "    land_mask_CCPA = h5io['land_mask_CCPA'][...]\n",
    "    elev_CCPA = h5io['elev_CCPA'][...]\n",
    "    \n",
    "land_mask = land_mask_CCPA == 1.0\n",
    "ocean_mask = land_mask_CCPA == 0.0\n",
    "\n",
    "elev_CCPA[ocean_mask] = 0\n",
    "elev_CCPA[elev_CCPA<0] = 0\n",
    "elev_CCPA = norm_elev(elev_CCPA) # <-- normalization\n",
    "\n",
    "with h5py.File(camp_dir+'CCPA/CCPA_CDFs_2002_2019.hdf', 'r') as h5io:\n",
    "    CCPA_CDFs = h5io['CCPA_CDFs'][...]\n",
    "CCPA_CDFs_99 = norm_precip(CCPA_CDFs[99, ...]) # <-- normalization\n",
    "CCPA_CDFs_99[ocean_mask, :] = 0"
   ]
  },
  {
   "cell_type": "markdown",
   "id": "1f566650-ebd1-4c35-aa1d-2ab5fbc7f428",
   "metadata": {},
   "source": [
    "**Import data**\n",
    "\n",
    "Raw GEFS operational members as input"
   ]
  },
  {
   "cell_type": "code",
   "execution_count": 12,
   "id": "10f2147f-1553-42d6-bc63-c728bbc025d1",
   "metadata": {},
   "outputs": [],
   "source": [
    "with h5py.File(camp_dir+'GFS/GEFS_OPT_MEMBERS_2021.hdf', 'r') as h5io:\n",
    "    GEFS_input = h5io['apcp'][iday0:iday1, ...]\n",
    "\n",
    "N_days, _, EN, _, _ = GEFS_input.shape\n",
    "\n",
    "# data pre-processing\n",
    "GEFS_input[..., ocean_mask] = 0.0\n",
    "GEFS_input = norm_precip(GEFS_input) # <-- normalization"
   ]
  },
  {
   "cell_type": "markdown",
   "id": "28764077-9bd3-4ce5-b770-73af7121c7e1",
   "metadata": {},
   "source": [
    "**Step 1**: VQ-VAE encoder projects the GEFS ensemble mean into latent codes"
   ]
  },
  {
   "cell_type": "code",
   "execution_count": 13,
   "id": "70a6eefd-b825-4645-a23e-9ee55eeb65d6",
   "metadata": {},
   "outputs": [
    {
     "name": "stdout",
     "output_type": "stream",
     "text": [
      "encoding lead time ind: 0\n",
      "encoding lead time ind: 1\n",
      "encoding lead time ind: 2\n",
      "encoding lead time ind: 3\n",
      "encoding lead time ind: 4\n",
      "encoding lead time ind: 5\n",
      "encoding lead time ind: 6\n",
      "encoding lead time ind: 7\n",
      "encoding lead time ind: 8\n",
      "encoding lead time ind: 9\n",
      "encoding lead time ind: 10\n",
      "encoding lead time ind: 11\n",
      "encoding lead time ind: 12\n",
      "encoding lead time ind: 13\n",
      "encoding lead time ind: 14\n",
      "encoding lead time ind: 15\n",
      "encoding lead time ind: 16\n",
      "encoding lead time ind: 17\n",
      "encoding lead time ind: 18\n",
      "encoding lead time ind: 19\n",
      "encoding lead time ind: 20\n",
      "encoding lead time ind: 21\n",
      "encoding lead time ind: 22\n",
      "encoding lead time ind: 23\n"
     ]
    }
   ],
   "source": [
    "GEFS_encode = np.empty((N_days, N_leads, EN)+latent_size)\n",
    "\n",
    "for ilead in range(N_leads):\n",
    "    print('encoding lead time ind: {}'.format(ilead))\n",
    "    for ien in range(EN):\n",
    "        GEFS_encode[:, ilead, ien, ...] = encoder.predict(GEFS_input[:, ilead, ien, ...], verbose=0)"
   ]
  },
  {
   "cell_type": "markdown",
   "id": "c840c139-cf7f-4093-9b57-b857503ac0c9",
   "metadata": {},
   "source": [
    "**Step 2**: 3D-ViT corrects the conditional bias of the latent codes"
   ]
  },
  {
   "cell_type": "code",
   "execution_count": 14,
   "id": "5afcf610-306e-4f41-8b8d-439dd6816df1",
   "metadata": {},
   "outputs": [
    {
     "name": "stdout",
     "output_type": "stream",
     "text": [
      "Process ensemble member ind: 0\n",
      "Process ensemble member ind: 5\n",
      "Process ensemble member ind: 10\n",
      "Process ensemble member ind: 15\n",
      "Process ensemble member ind: 20\n",
      "Process ensemble member ind: 25\n",
      "Process ensemble member ind: 30\n"
     ]
    }
   ],
   "source": [
    "GEFS_bias_correct = np.empty(GEFS_encode.shape)\n",
    "\n",
    "for ien in range(EN):\n",
    "    if ien % 5 == 0:\n",
    "        print('Process ensemble member ind: {}'.format(ien))\n",
    "        \n",
    "    GEFS_bias_correct[:, :, ien, ...] = ViT_pred(GEFS_encode[:, :, ien, ...], model_48h, model_96h, model_144h)"
   ]
  },
  {
   "cell_type": "markdown",
   "id": "d03b4c44-0ef9-44e4-8766-34ad91c847bd",
   "metadata": {},
   "source": [
    "**Step 3**: Generate ensebmle members with LDM"
   ]
  },
  {
   "cell_type": "code",
   "execution_count": 15,
   "id": "f9e40c25-4cc9-4849-8d75-055a1a9cd566",
   "metadata": {},
   "outputs": [
    {
     "name": "stdout",
     "output_type": "stream",
     "text": [
      "Process ensemble member ind: 0\n",
      "Process ensemble member ind: 5\n",
      "Process ensemble member ind: 10\n",
      "Process ensemble member ind: 15\n",
      "Process ensemble member ind: 20\n",
      "Process ensemble member ind: 25\n",
      "Process ensemble member ind: 30\n"
     ]
    }
   ],
   "source": [
    "EN_LDM = int(EN * N_gen)\n",
    "LDM_output = np.empty((N_days, N_leads, EN_LDM,)+latent_size)\n",
    "\n",
    "GEFS_bias_correct_scale = rescale(GEFS_bias_correct) #<-- rescale latents\n",
    "\n",
    "for ien in range(EN):\n",
    "    if ien % 5 == 0:\n",
    "        print('Process ensemble member ind: {}'.format(ien))\n",
    "        \n",
    "    for igen in range(N_gen):\n",
    "        LDM_output[:, :, N_gen*ien+igen, ...] = LDM.generate(N_days, GEFS_bias_correct_scale[:, :, ien, ...])\n",
    "        \n",
    "LDM_output = scaleback(LDM_output) # scale-back latents"
   ]
  },
  {
   "cell_type": "markdown",
   "id": "33db119e-0f29-41a3-9c27-ec82d85a206e",
   "metadata": {},
   "source": [
    "**Step 4**: Convert latent space values to precipitation"
   ]
  },
  {
   "cell_type": "code",
   "execution_count": 16,
   "id": "d0ccf886-bc72-4179-8334-2c09f27db747",
   "metadata": {},
   "outputs": [
    {
     "name": "stdout",
     "output_type": "stream",
     "text": [
      "decoding lead time ind: 0\n",
      "decoding lead time ind: 1\n",
      "decoding lead time ind: 2\n",
      "decoding lead time ind: 3\n",
      "decoding lead time ind: 4\n",
      "decoding lead time ind: 5\n",
      "decoding lead time ind: 6\n",
      "decoding lead time ind: 7\n",
      "decoding lead time ind: 8\n",
      "decoding lead time ind: 9\n",
      "decoding lead time ind: 10\n",
      "decoding lead time ind: 11\n",
      "decoding lead time ind: 12\n",
      "decoding lead time ind: 13\n",
      "decoding lead time ind: 14\n",
      "decoding lead time ind: 15\n",
      "decoding lead time ind: 16\n",
      "decoding lead time ind: 17\n",
      "decoding lead time ind: 18\n",
      "decoding lead time ind: 19\n",
      "decoding lead time ind: 20\n",
      "decoding lead time ind: 21\n",
      "decoding lead time ind: 22\n",
      "decoding lead time ind: 23\n"
     ]
    }
   ],
   "source": [
    "OUT_VAE = np.empty((N_days, N_leads, EN_LDM)+ccpa_shape)\n",
    "\n",
    "for ilead, lead in enumerate(LEADs):\n",
    "    print('decoding lead time ind: {}'.format(ilead))\n",
    "    for ien in range(EN_LDM):\n",
    "        OUT_VAE[:, ilead, ien, ...] = decoder.predict(LDM_output[:, ilead, ien, ...], verbose=0)[..., 0]\n",
    "        \n",
    "OUT_VAE[OUT_VAE<0] = 0\n",
    "OUT_VAE[..., ocean_mask] = 0"
   ]
  },
  {
   "cell_type": "code",
   "execution_count": 17,
   "id": "f2e28c33-0635-4e85-9920-3b8dba4a7e67",
   "metadata": {},
   "outputs": [
    {
     "name": "stdout",
     "output_type": "stream",
     "text": [
      "refining lead time ind: 0\n",
      "refining lead time ind: 1\n",
      "refining lead time ind: 2\n",
      "refining lead time ind: 3\n",
      "refining lead time ind: 4\n",
      "refining lead time ind: 5\n",
      "refining lead time ind: 6\n",
      "refining lead time ind: 7\n",
      "refining lead time ind: 8\n",
      "refining lead time ind: 9\n",
      "refining lead time ind: 10\n",
      "refining lead time ind: 11\n",
      "refining lead time ind: 12\n",
      "refining lead time ind: 13\n",
      "refining lead time ind: 14\n",
      "refining lead time ind: 15\n",
      "refining lead time ind: 16\n",
      "refining lead time ind: 17\n",
      "refining lead time ind: 18\n",
      "refining lead time ind: 19\n",
      "refining lead time ind: 20\n",
      "refining lead time ind: 21\n",
      "refining lead time ind: 22\n",
      "refining lead time ind: 23\n"
     ]
    }
   ],
   "source": [
    "OUT_refine = np.empty((N_days, N_leads, EN_LDM)+ccpa_shape)\n",
    "\n",
    "input_ = np.empty((N_days,)+ccpa_shape+(3,))\n",
    "\n",
    "for ilead, lead in enumerate(LEADs):\n",
    "    print('refining lead time ind: {}'.format(ilead))\n",
    "    # d_ = lead // 24\n",
    "    # day = d + d_\n",
    "    ind_hour = lead % 24\n",
    "    ind_hour = int(ind_hour/6)\n",
    "    CCPA_CDFs_99_ = CCPA_CDFs_99[..., ind_hour]\n",
    "    \n",
    "    for ien in range(EN_LDM):\n",
    "        input_[..., 0] = OUT_VAE[:, ilead, ien, ...]\n",
    "        input_[..., 1] = elev_CCPA[None, ...]\n",
    "        input_[..., 2] = CCPA_CDFs_99_[None, ...]\n",
    "        OUT_refine[:, ilead, ien, ...] = decoder_refine.predict(input_, verbose=0)[..., 0]\n",
    "\n",
    "OUT_refine[OUT_refine<0] = 0\n",
    "OUT_refine[..., ocean_mask] = 0"
   ]
  },
  {
   "cell_type": "markdown",
   "id": "a545eb37-20f6-40a1-9fd0-5b2a295d8356",
   "metadata": {},
   "source": [
    "**Step 5** (optional) decode ViT output to see the difference"
   ]
  },
  {
   "cell_type": "code",
   "execution_count": 18,
   "id": "af0c6a27-d37f-4d3c-9e9e-26aa0c16eace",
   "metadata": {},
   "outputs": [
    {
     "name": "stdout",
     "output_type": "stream",
     "text": [
      "decoding lead time ind: 0\n",
      "decoding lead time ind: 1\n",
      "decoding lead time ind: 2\n",
      "decoding lead time ind: 3\n",
      "decoding lead time ind: 4\n",
      "decoding lead time ind: 5\n",
      "decoding lead time ind: 6\n",
      "decoding lead time ind: 7\n",
      "decoding lead time ind: 8\n",
      "decoding lead time ind: 9\n",
      "decoding lead time ind: 10\n",
      "decoding lead time ind: 11\n",
      "decoding lead time ind: 12\n",
      "decoding lead time ind: 13\n",
      "decoding lead time ind: 14\n",
      "decoding lead time ind: 15\n",
      "decoding lead time ind: 16\n",
      "decoding lead time ind: 17\n",
      "decoding lead time ind: 18\n",
      "decoding lead time ind: 19\n",
      "decoding lead time ind: 20\n",
      "decoding lead time ind: 21\n",
      "decoding lead time ind: 22\n",
      "decoding lead time ind: 23\n"
     ]
    }
   ],
   "source": [
    "OUT_no_LDM = np.empty((N_days, N_leads, EN)+ccpa_shape)\n",
    "\n",
    "for ilead, lead in enumerate(LEADs):\n",
    "    print('decoding lead time ind: {}'.format(ilead))\n",
    "    for ien in range(EN):\n",
    "        OUT_no_LDM[:, ilead, ien, ...] = decoder.predict(GEFS_bias_correct[:, ilead, ien, ...], verbose=0)[..., 0]\n",
    "        \n",
    "OUT_no_LDM[OUT_no_LDM<0] = 0\n",
    "OUT_no_LDM[..., ocean_mask] = 0"
   ]
  },
  {
   "cell_type": "code",
   "execution_count": 19,
   "id": "ecc033db-088c-4326-8165-eb125d32159a",
   "metadata": {},
   "outputs": [
    {
     "name": "stdout",
     "output_type": "stream",
     "text": [
      "refining lead time ind: 0\n",
      "refining lead time ind: 1\n",
      "refining lead time ind: 2\n",
      "refining lead time ind: 3\n",
      "refining lead time ind: 4\n",
      "refining lead time ind: 5\n",
      "refining lead time ind: 6\n",
      "refining lead time ind: 7\n",
      "refining lead time ind: 8\n",
      "refining lead time ind: 9\n",
      "refining lead time ind: 10\n",
      "refining lead time ind: 11\n",
      "refining lead time ind: 12\n",
      "refining lead time ind: 13\n",
      "refining lead time ind: 14\n",
      "refining lead time ind: 15\n",
      "refining lead time ind: 16\n",
      "refining lead time ind: 17\n",
      "refining lead time ind: 18\n",
      "refining lead time ind: 19\n",
      "refining lead time ind: 20\n",
      "refining lead time ind: 21\n",
      "refining lead time ind: 22\n",
      "refining lead time ind: 23\n"
     ]
    }
   ],
   "source": [
    "OUT_no_LDM_refine = np.empty((N_days, N_leads, EN)+ccpa_shape)\n",
    "\n",
    "input_ = np.empty((N_days,)+ccpa_shape+(3,))\n",
    "\n",
    "for ilead, lead in enumerate(LEADs):\n",
    "    print('refining lead time ind: {}'.format(ilead))\n",
    "    # d_ = lead // 24\n",
    "    # day = d + d_\n",
    "    ind_hour = lead % 24\n",
    "    ind_hour = int(ind_hour/6)\n",
    "    CCPA_CDFs_99_ = CCPA_CDFs_99[..., ind_hour]\n",
    "    \n",
    "    for ien in range(EN):\n",
    "        input_[..., 0] = OUT_no_LDM[:, ilead, ien, ...]\n",
    "        input_[..., 1] = elev_CCPA[None, ...]\n",
    "        input_[..., 2] = CCPA_CDFs_99_[None, ...]\n",
    "        OUT_no_LDM_refine[:, ilead, ien, ...] = decoder_refine.predict(input_, verbose=0)[..., 0]\n",
    "\n",
    "OUT_no_LDM_refine[OUT_no_LDM_refine<0] = 0\n",
    "OUT_no_LDM_refine[..., ocean_mask] = 0"
   ]
  },
  {
   "cell_type": "markdown",
   "id": "02ab14a0-515b-4100-a4f5-0cdd90955401",
   "metadata": {},
   "source": [
    "**Check results**"
   ]
  },
  {
   "cell_type": "code",
   "execution_count": 21,
   "id": "0568dd92-b3eb-499e-b314-384141ba3654",
   "metadata": {},
   "outputs": [],
   "source": [
    "OUT_VAE_P = to_precip(OUT_VAE)\n",
    "OUT_refine_P = to_precip(OUT_refine)\n",
    "\n",
    "OUT_no_LDM_P = to_precip(OUT_no_LDM)\n",
    "OUT_no_LDM_refine = to_precip(OUT_no_LDM_refine)"
   ]
  },
  {
   "cell_type": "code",
   "execution_count": 22,
   "id": "df42c822-7a22-4a2c-8d85-b081fbf821aa",
   "metadata": {},
   "outputs": [],
   "source": [
    "with h5py.File(camp_dir+'CCPA/CCPA_lead_y2021.hdf', 'r') as h5io:\n",
    "    CCPA_true = h5io['CCPA_lead'][iday0:iday1, ...]"
   ]
  },
  {
   "cell_type": "code",
   "execution_count": 31,
   "id": "fc61668c-f45a-472b-a382-c4a2a42cee05",
   "metadata": {},
   "outputs": [
    {
     "data": {
      "text/plain": [
       "Text(0.5, 1.0, '(f) CCPA')"
      ]
     },
     "execution_count": 31,
     "metadata": {},
     "output_type": "execute_result"
    },
    {
     "data": {
      "image/png": "[encoded data removed]",
      "text/plain": [
       "<Figure size 1300x800 with 6 Axes>"
      ]
     },
     "metadata": {},
     "output_type": "display_data"
    }
   ],
   "source": [
    "ilead = 0 # 00-06 forecasts\n",
    "y_pred_plot = OUT_refine_P #to_precip(OUT_refine)\n",
    "y_true_plot = CCPA_true\n",
    "\n",
    "fig, AX = plt.subplots(2, 3, figsize=(13, 8))\n",
    "for ax in AX.ravel():\n",
    "    ax = gu.ax_decorate_box(ax)\n",
    "\n",
    "AX[0][0].pcolormesh(y_pred_plot[0, ilead, 0, ...], vmin=0, vmax=20, cmap=plt.cm.nipy_spectral_r)\n",
    "AX[0][0].set_title('(a) Generated member 000', fontsize=14)\n",
    "\n",
    "AX[0][1].pcolormesh(y_pred_plot[0, ilead, 49, ...], vmin=0, vmax=20, cmap=plt.cm.nipy_spectral_r)\n",
    "AX[0][1].set_title('(b) Generated member 050', fontsize=14)\n",
    "\n",
    "AX[0][2].pcolormesh(y_pred_plot[0, ilead, 99, ...], vmin=0, vmax=20, cmap=plt.cm.nipy_spectral_r)\n",
    "AX[0][2].set_title('(c) Generated member 100', fontsize=14)\n",
    "\n",
    "AX[1][0].pcolormesh(y_pred_plot[0, ilead, 149, ...], vmin=0, vmax=20, cmap=plt.cm.nipy_spectral_r)\n",
    "AX[1][0].set_title('(d) Generated member 150', fontsize=14)\n",
    "\n",
    "AX[1][1].pcolormesh(np.mean(y_pred_plot[0, ilead, ...], axis=0), vmin=0, vmax=20, cmap=plt.cm.nipy_spectral_r)\n",
    "AX[1][1].set_title('(e) Ensemble mean', fontsize=14)\n",
    "\n",
    "AX[1][2].pcolormesh(y_true_plot[0, ilead, ...], vmin=0, vmax=20, cmap=plt.cm.nipy_spectral_r)\n",
    "AX[1][2].set_title('(f) CCPA', fontsize=14)"
   ]
  },
  {
   "cell_type": "code",
   "execution_count": null,
   "id": "71881636-8587-4bb1-a389-03e045a4dadc",
   "metadata": {},
   "outputs": [],
   "source": []
  }
 ],
 "metadata": {
  "kernelspec": {
   "display_name": "Python 3 (ipykernel)",
   "language": "python",
   "name": "python3"
  },
  "language_info": {
   "codemirror_mode": {
    "name": "ipython",
    "version": 3
   },
   "file_extension": ".py",
   "mimetype": "text/x-python",
   "name": "python",
   "nbconvert_exporter": "python",
   "pygments_lexer": "ipython3",
   "version": "3.10.13"
  }
 },
 "nbformat": 4,
 "nbformat_minor": 5
}
