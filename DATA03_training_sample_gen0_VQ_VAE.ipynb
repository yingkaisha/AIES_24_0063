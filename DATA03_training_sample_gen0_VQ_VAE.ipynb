{
 "cells": [
  {
   "cell_type": "markdown",
   "id": "3a414f2d-8b54-4659-ab2b-b9ff5b5a4259",
   "metadata": {},
   "source": [
    "# Generate training samples for VQ-VAE\n",
    "\n",
    "This notebook geneerate training samples (batch size = 1) for VQ-VAE.\n",
    "* All samples, including testing set samples were generated.\n",
    "* Samples were saved as .npy files; their file names contain the datetime information, so the testing samplles will not be touched."
   ]
  },
  {
   "cell_type": "code",
   "execution_count": 1,
   "id": "df2ef1ec-9b90-4574-8ed9-806573e0ba76",
   "metadata": {},
   "outputs": [],
   "source": [
    "import os\n",
    "import sys\n",
    "import time\n",
    "import h5py\n",
    "import pygrib\n",
    "from glob import glob\n",
    "import numpy as np\n",
    "from datetime import datetime, timedelta\n",
    "\n",
    "# ------------------------------------------------------- #\n",
    "# Import customized modules and settings\n",
    "sys.path.insert(0, '/glade/u/home/ksha/GAN_proj/')\n",
    "sys.path.insert(0, '/glade/u/home/ksha/GAN_proj/libs/')\n",
    "\n",
    "from namelist import *\n",
    "import data_utils as du"
   ]
  },
  {
   "cell_type": "code",
   "execution_count": 2,
   "id": "ae6cd660-668e-4659-9aae-914824eb7a76",
   "metadata": {},
   "outputs": [],
   "source": [
    "import matplotlib.pyplot as plt\n",
    "%matplotlib inline"
   ]
  },
  {
   "cell_type": "markdown",
   "id": "9293af4e-95b2-4337-bce6-511c005b072e",
   "metadata": {},
   "source": [
    "## Generate training samples\n",
    "\n",
    "* Locations: `$camp_dir/BATCH_CCPA_full/`\n",
    "* Normalization:\n",
    "```python\n",
    "apcp = np.log(0.1*apcp+1)\n",
    "```"
   ]
  },
  {
   "cell_type": "code",
   "execution_count": 3,
   "id": "d312e4d7-cc5e-42de-8e53-ee0a15c6196f",
   "metadata": {},
   "outputs": [],
   "source": [
    "BATCH_dir = camp_dir+'BATCH_CCPA_full/'\n",
    "batch_name = 'CCPA_{}_{}.npy' #.format(datetime, hour-of-day)\n",
    "grid_shape = (224, 464)\n",
    "hours = ['00', '06', '12', '18']\n",
    "\n",
    "# ------------------------------------------------------- #\n",
    "# Datetime information\n",
    "\n",
    "base = datetime(2002, 1, 1)\n",
    "date_list = [base + timedelta(days=d) for d in range(365*22+5)]"
   ]
  },
  {
   "cell_type": "code",
   "execution_count": 4,
   "id": "26cbc385-7a14-4d77-a6cb-be7da4433c51",
   "metadata": {
    "scrolled": true
   },
   "outputs": [],
   "source": [
    "# Pick CCPA 06h products\n",
    "filename = camp_dir+'wget_CCPA/ccpa.{}/{}/*06h*'\n",
    "\n",
    "# ------------------------------------------------------- #\n",
    "# The main sample generation loop\n",
    "for d, dt in enumerate(date_list):\n",
    "    for h in hours:\n",
    "        dt_str = datetime.strftime(dt, '%Y%m%d')\n",
    "        filename_ = glob(filename.format(dt_str, h))\n",
    "        \n",
    "        if len(filename_) > 0:\n",
    "            #print(filename_)\n",
    "            with pygrib.open(filename_[0]) as grbio:\n",
    "                apcp = grbio[1].values\n",
    "                apcp = np.array(apcp)\n",
    "                apcp[apcp>1000] = 0.0\n",
    "                apcp[land_mask_CCPA==0] = 0\n",
    "                \n",
    "            # batch values are normalized\n",
    "            apcp = np.log(0.1*apcp+1)\n",
    "            save_name = BATCH_dir+batch_name.format(dt_str, h)\n",
    "            #print(save_name)\n",
    "            np.save(save_name, apcp)"
   ]
  },
  {
   "cell_type": "markdown",
   "id": "e886453f-c301-4811-8c45-541edd74d8a9",
   "metadata": {},
   "source": [
    "### Check batch quality"
   ]
  },
  {
   "cell_type": "code",
   "execution_count": null,
   "id": "68a17ce9-6d4c-46b7-a916-af24aa40fb50",
   "metadata": {},
   "outputs": [],
   "source": [
    "with h5py.File(save_dir+'CCPA_domain.hdf', 'r') as h5io:\n",
    "    lon_CCPA = h5io['lon_CCPA'][...]\n",
    "    lat_CCPA = h5io['lat_CCPA'][...]\n",
    "    # elev_CCPA = h5io['elev_CCPA'][...]\n",
    "    # var_mask_CCPA = h5io['var_mask_CCPA'][...]\n",
    "    # land_mask_CCPA = h5io['land_mask_CCPA'][...]"
   ]
  },
  {
   "cell_type": "code",
   "execution_count": null,
   "id": "bf49046f-ad8e-4abd-ab64-fdf25209b2c3",
   "metadata": {},
   "outputs": [],
   "source": []
  }
 ],
 "metadata": {
  "kernelspec": {
   "display_name": "Python 3 (ipykernel)",
   "language": "python",
   "name": "python3"
  },
  "language_info": {
   "codemirror_mode": {
    "name": "ipython",
    "version": 3
   },
   "file_extension": ".py",
   "mimetype": "text/x-python",
   "name": "python",
   "nbconvert_exporter": "python",
   "pygments_lexer": "ipython3",
   "version": "3.10.13"
  }
 },
 "nbformat": 4,
 "nbformat_minor": 5
}
