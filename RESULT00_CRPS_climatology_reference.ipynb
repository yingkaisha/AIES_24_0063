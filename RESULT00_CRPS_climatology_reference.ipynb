{
 "cells": [
  {
   "cell_type": "markdown",
   "id": "c7c660ba-e393-448e-af78-08e88567f095",
   "metadata": {},
   "source": [
    "# CRPS reference based on the CCPA climatology\n",
    "\n",
    "The notebook computes the CRPS reference by using the CCPA grid-point-wise CDFs "
   ]
  },
  {
   "cell_type": "code",
   "execution_count": 1,
   "id": "a30c7065-bac0-4c2d-95e5-484cf11ea25d",
   "metadata": {},
   "outputs": [],
   "source": [
    "import os\n",
    "import sys\n",
    "import time\n",
    "import h5py\n",
    "import numpy as np\n",
    "from glob import glob\n",
    "from datetime import datetime, timedelta"
   ]
  },
  {
   "cell_type": "code",
   "execution_count": 2,
   "id": "2f98d2db-f0d0-48ba-a542-0530427f9647",
   "metadata": {},
   "outputs": [],
   "source": [
    "sys.path.insert(0, '/glade/u/home/ksha/GAN_proj/')\n",
    "sys.path.insert(0, '/glade/u/home/ksha/GAN_proj/libs/')\n",
    "\n",
    "from namelist import *\n",
    "import data_utils as du\n",
    "import verif_utils as vu"
   ]
  },
  {
   "cell_type": "code",
   "execution_count": 3,
   "id": "3aa24b79-c5ba-438b-97e5-fea227806559",
   "metadata": {},
   "outputs": [],
   "source": [
    "import matplotlib.pyplot as plt\n",
    "%matplotlib inline"
   ]
  },
  {
   "cell_type": "code",
   "execution_count": 4,
   "id": "c3c8daf5-118c-4ba7-ae84-6ca62304910f",
   "metadata": {},
   "outputs": [],
   "source": [
    "with h5py.File(save_dir+'CCPA_domain.hdf', 'r') as h5io:\n",
    "    lon_CCPA = h5io['lon_CCPA'][...]\n",
    "    lat_CCPA = h5io['lat_CCPA'][...]\n",
    "    land_mask_CCPA = h5io['land_mask_CCPA'][...]\n",
    "land_mask_ = land_mask_CCPA==1\n",
    "grid_shape = land_mask_.shape"
   ]
  },
  {
   "cell_type": "markdown",
   "id": "a2006a92-2043-4419-9a0f-844768b0c034",
   "metadata": {},
   "source": [
    "### 2002-2019 CDFs"
   ]
  },
  {
   "cell_type": "code",
   "execution_count": 5,
   "id": "988a874a-6f82-490c-b4a7-d288987a2d7c",
   "metadata": {},
   "outputs": [],
   "source": [
    "with h5py.File(camp_dir+'CCPA/CCPA_CDFs_2002_2019.hdf', 'r') as h5io:\n",
    "    CCPA_CDFs = h5io['CCPA_CDFs'][...]\n",
    "\n",
    "q_bins = np.array([0.00, 0.01, 0.02, 0.03, 0.04, 0.05, 0.06, 0.07, 0.08, 0.09, 0.1 ,\n",
    "                   0.11, 0.12, 0.13, 0.14, 0.15, 0.16, 0.17, 0.18, 0.19, 0.20, 0.21,\n",
    "                   0.22, 0.23, 0.24, 0.25, 0.26, 0.27, 0.28, 0.29, 0.30, 0.31, 0.32,\n",
    "                   0.33, 0.34, 0.35, 0.36, 0.37, 0.38, 0.39, 0.40, 0.41, 0.42, 0.43,\n",
    "                   0.44, 0.45, 0.46, 0.47, 0.48, 0.49, 0.50, 0.51, 0.52, 0.53, 0.54,\n",
    "                   0.55, 0.56, 0.57, 0.58, 0.59, 0.60, 0.61, 0.62, 0.63, 0.64, 0.65,\n",
    "                   0.66, 0.67, 0.68, 0.69, 0.70, 0.71, 0.72, 0.73, 0.74, 0.75, 0.76,\n",
    "                   0.77, 0.78, 0.79, 0.80, 0.81, 0.82, 0.83, 0.84, 0.85, 0.86, 0.87,\n",
    "                   0.88, 0.89, 0.90, 0.91, 0.92, 0.93, 0.94, 0.95, 0.96, 0.97, 0.98, \n",
    "                   0.99, 0.991, 0.992, 0.993, 0.994, 0.995, 0.996, 0.997, 0.998, 0.999, 1.0])"
   ]
  },
  {
   "cell_type": "markdown",
   "id": "dc4c0be9-5f15-4cff-8464-77940b68bcb8",
   "metadata": {},
   "source": [
    "### CRPS reference for CCPA 2021"
   ]
  },
  {
   "cell_type": "code",
   "execution_count": 6,
   "id": "5ca6ce59-1a1b-4e3e-af9f-37ada43b87dd",
   "metadata": {},
   "outputs": [],
   "source": [
    "filename_ccpa = camp_dir+'CCPA/CCPA_lead_y{}.hdf'\n",
    "with h5py.File(filename_ccpa.format(2021), 'r') as h5io:\n",
    "    CCPA = h5io['CCPA_lead'][...]\n",
    "    \n",
    "LEADs = np.arange(6, 144+6, 6)\n",
    "N_leads = len(LEADs)"
   ]
  },
  {
   "cell_type": "code",
   "execution_count": 1,
   "id": "2d2f2929-7189-48d0-9248-012a765b3018",
   "metadata": {},
   "outputs": [],
   "source": [
    "CRPS_ref = np.empty((N_leads,)+grid_shape)\n",
    "CRPS_ref[...] = np.nan\n",
    "# for ix in range(grid_shape[0]):\n",
    "    # for iy in range(grid_shape[1]):\n",
    "    #     if land_mask_[ix, iy]:\n",
    "for ilead, lead in enumerate(LEADs):\n",
    "    ind_hour = lead % 24\n",
    "    ind_hour = int(ind_hour/6)\n",
    "    \n",
    "    ccpa_cdf = CCPA_CDFs[:, ..., ind_hour]\n",
    "    ccpa_obs = CCPA[:, ilead, ...]\n",
    "    \n",
    "    crps_ = vu.CRPS_1d_from_quantiles(q_bins, ccpa_cdf[:, land_mask_], ccpa_obs[:, land_mask_])\n",
    "    CRPS_ref[ilead, land_mask_] = np.nanmean(crps_, axis=0)\n",
    "    print('lead = {:02} done'.format(lead))\n",
    "\n",
    "CRPS_ref[:, land_mask_CCPA==0] = np.nan\n",
    "\n",
    "# backup every lead time  \n",
    "tuple_save = (CRPS_ref,)\n",
    "label_save = ['CRPS_ref',]\n",
    "du.save_hdf5(tuple_save, label_save, result_dir, 'CRPS_CCPA_2021.hdf')"
   ]
  },
  {
   "cell_type": "code",
   "execution_count": null,
   "id": "85970c94-1b09-4350-a72c-b53ef0fa1d80",
   "metadata": {},
   "outputs": [],
   "source": []
  }
 ],
 "metadata": {
  "kernelspec": {
   "display_name": "Python 3 (ipykernel)",
   "language": "python",
   "name": "python3"
  },
  "language_info": {
   "codemirror_mode": {
    "name": "ipython",
    "version": 3
   },
   "file_extension": ".py",
   "mimetype": "text/x-python",
   "name": "python",
   "nbconvert_exporter": "python",
   "pygments_lexer": "ipython3",
   "version": "3.10.13"
  }
 },
 "nbformat": 4,
 "nbformat_minor": 5
}
