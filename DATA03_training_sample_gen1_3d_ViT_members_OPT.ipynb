{
 "cells": [
  {
   "cell_type": "markdown",
   "id": "3a414f2d-8b54-4659-ab2b-b9ff5b5a4259",
   "metadata": {},
   "source": [
    "# Generate training samples for 3d ViT\n",
    "\n",
    "This notebook geneerate training samples (batch size = 1) for 3d ViT.\n",
    "* Training and validation samples were generated.\n",
    "* Samples were saved as .npy files; their file names contain the datetime information."
   ]
  },
  {
   "cell_type": "code",
   "execution_count": 1,
   "id": "df2ef1ec-9b90-4574-8ed9-806573e0ba76",
   "metadata": {},
   "outputs": [],
   "source": [
    "import os\n",
    "import sys\n",
    "import time\n",
    "import h5py\n",
    "import numpy as np\n",
    "from glob import glob\n",
    "from datetime import datetime, timedelta\n",
    "\n",
    "# ------------------------------------------------------- #\n",
    "# Turn-off warnings\n",
    "import logging\n",
    "import warnings\n",
    "\n",
    "warnings.filterwarnings(\"ignore\")\n",
    "os.environ['TF_CPP_MIN_LOG_LEVEL'] = '3' \n",
    "logging.getLogger(\"tensorflow\").setLevel(logging.ERROR)\n",
    "\n",
    "# ------------------------------------------------------- #\n",
    "# Turn-off tensoflow-specific warnings\n",
    "import tensorflow as tf\n",
    "from tensorflow import keras\n",
    "from tensorflow.keras import layers\n",
    "\n",
    "tf.autograph.set_verbosity(0)\n",
    "tf.get_logger().setLevel('ERROR')\n",
    "\n",
    "# ------------------------------------------------------- #\n",
    "# Import customized modules and settings\n",
    "sys.path.insert(0, '/glade/u/home/ksha/GAN_proj/')\n",
    "sys.path.insert(0, '/glade/u/home/ksha/GAN_proj/libs/')\n",
    "\n",
    "from namelist import *\n",
    "import data_utils as du\n",
    "import model_utils as mu"
   ]
  },
  {
   "cell_type": "code",
   "execution_count": 2,
   "id": "ae6cd660-668e-4659-9aae-914824eb7a76",
   "metadata": {},
   "outputs": [],
   "source": [
    "import matplotlib.pyplot as plt\n",
    "%matplotlib inline"
   ]
  },
  {
   "cell_type": "code",
   "execution_count": 16,
   "id": "9558a6ba-79e8-4b07-86f7-a461742f7a81",
   "metadata": {},
   "outputs": [],
   "source": [
    "def norm_precip(x):\n",
    "    return np.log(0.1*x+1)\n",
    "\n",
    "def to_precip(x):\n",
    "    x[x<0] = 0\n",
    "    return 10*(np.exp(x) - 1)"
   ]
  },
  {
   "cell_type": "markdown",
   "id": "979438cf-134b-4fa6-a237-0216e83fd9aa",
   "metadata": {},
   "source": [
    "## Import VQ-VAE encoder"
   ]
  },
  {
   "cell_type": "code",
   "execution_count": 4,
   "id": "c08741a5-b988-4a78-86f1-f18960decbf8",
   "metadata": {},
   "outputs": [],
   "source": [
    "# Hyperparameters\n",
    "filter_nums = [64, 128] # number of convolution kernels per down-/upsampling layer \n",
    "latent_dim = 4 # number of latent feature channels\n",
    "activation = 'gelu' # activation function\n",
    "num_embeddings = 128 #128 # number of the VQ codes\n",
    "\n",
    "input_size = (224, 464, 1) # size of MRMS input\n",
    "latent_size = (14, 29, latent_dim) # size of compressed latent features\n",
    "\n",
    "drop_encode = True\n",
    "drop_decode = True\n",
    "\n",
    "# location for saving new weights\n",
    "model_name_encoder_load = model_dir+'models/VQ_VAE_encoder_stack1_tune0'\n",
    "model_name_decoder_load = model_dir+'models/VQ_VAE_decoder_stack1_tune0'\n",
    "\n",
    "model_encoder = mu.VQ_VAE_encoder(input_size, filter_nums, latent_dim, num_embeddings, activation, drop_encode)\n",
    "\n",
    "W_old = mu.dummy_loader(model_name_encoder_load)\n",
    "model_encoder.set_weights(W_old)"
   ]
  },
  {
   "cell_type": "markdown",
   "id": "9293af4e-95b2-4337-bce6-511c005b072e",
   "metadata": {},
   "source": [
    "## Generate training samples\n",
    "\n",
    "* Locations: `$camp_dir/BATCH_ViT_members/`\n",
    "* VQ-VAE encoder is applied"
   ]
  },
  {
   "cell_type": "code",
   "execution_count": 5,
   "id": "d312e4d7-cc5e-42de-8e53-ee0a15c6196f",
   "metadata": {},
   "outputs": [],
   "source": [
    "BATCH_dir = camp_dir+'BATCH_ViT_members_opt/'\n",
    "batch_name = 'ViT_{}.npy' #.format(datetime)\n",
    "\n",
    "LEADs = np.arange(6, 144+6, 6) # forecast lead times\n",
    "N_leads = len(LEADs)\n",
    "\n",
    "grid_shape = (N_leads, 14, 29, 4)\n",
    "ccpa_shape = (224, 464)\n",
    "\n",
    "with h5py.File(save_dir+'CCPA_domain.hdf', 'r') as h5io:\n",
    "    land_mask_CCPA = h5io['land_mask_CCPA'][...]\n",
    "land_mask_CCPA = np.logical_not(land_mask_CCPA)"
   ]
  },
  {
   "cell_type": "code",
   "execution_count": 6,
   "id": "a65a4a5a-4025-4b54-ae90-779a73affcf9",
   "metadata": {},
   "outputs": [],
   "source": [
    "year = 2021\n",
    "\n",
    "# ------------------------------------------------------- #\n",
    "# Datetime information\n",
    "\n",
    "base = datetime(year, 1, 1)\n",
    "\n",
    "if year % 4 == 0:\n",
    "    N_days = 366\n",
    "else:\n",
    "    N_days = 365\n",
    "\n",
    "date_list = [base + timedelta(days=d) for d in range(N_days)]"
   ]
  },
  {
   "cell_type": "code",
   "execution_count": 7,
   "id": "e300fcf0-d599-46b0-b815-829b85a2c250",
   "metadata": {},
   "outputs": [],
   "source": [
    "filename_ccpa = camp_dir+'CCPA/CCPA_y{}.hdf'\n",
    "\n",
    "with h5py.File(filename_ccpa.format(year), 'r') as h5io:\n",
    "    CCPA_base = h5io['CCPA'][...]\n",
    "L_base = len(CCPA_base)\n",
    "\n",
    "# forecast lead times can exceed one year\n",
    "N_beyond = 10\n",
    "N_total = L_base + N_beyond\n",
    "with h5py.File(filename_ccpa.format(year+1), 'r') as h5io:\n",
    "    CCPA_extra = h5io['CCPA'][:N_beyond, ...]\n",
    "\n",
    "CCPA = np.concatenate((CCPA_base, CCPA_extra), axis=0)\n",
    "CCPA = norm_precip(CCPA)\n",
    "CCPA[:, :, land_mask_CCPA] = 0.0"
   ]
  },
  {
   "cell_type": "code",
   "execution_count": 15,
   "id": "7a480dbe-3290-45fb-9a83-d61d8133f9b8",
   "metadata": {},
   "outputs": [],
   "source": [
    "date_list = [base + timedelta(days=day) for day in range(365)]\n",
    "\n",
    "CCPA_true = np.empty((24, 224, 464))\n",
    "GEFS_embed = np.empty((24, 31, 14, 29, 12))\n",
    "CCPA_embed = np.empty(grid_shape)"
   ]
  },
  {
   "cell_type": "code",
   "execution_count": 1,
   "id": "b30f577f-0b28-4b4a-8e64-ad8c0ccc1420",
   "metadata": {},
   "outputs": [],
   "source": [
    "filename_gefs = camp_dir+'GFS/{}.hdf'\n",
    "filename_gefs_AVE = camp_dir+'GFS/{}_mean.hdf'\n",
    "filename_gefs_STD = camp_dir+'GFS/{}_std.hdf'\n",
    "\n",
    "for d, dt in enumerate(date_list):\n",
    "    \n",
    "    dt_str = datetime.strftime(dt, '%Y%m%d')\n",
    "    filename_ = filename_gefs.format(dt_str)\n",
    "    filename_AVE = filename_gefs_AVE.format(dt_str)\n",
    "    filename_STD = filename_gefs_STD.format(dt_str)\n",
    "    \n",
    "    if os.path.isfile(filename_):\n",
    "\n",
    "        with h5py.File(filename_, 'r') as h5io:\n",
    "            apcp = h5io['apcp'][...]\n",
    "    \n",
    "        with h5py.File(filename_AVE, 'r') as h5io:\n",
    "            apcp_AVE = h5io['apcp_mean'][...]\n",
    "    \n",
    "        with h5py.File(filename_STD, 'r') as h5io:\n",
    "            apcp_STD = h5io['apcp_std'][...]\n",
    "\n",
    "        apcp = norm_precip(apcp)\n",
    "        apcp[:, :, land_mask_CCPA] = 0.0\n",
    "\n",
    "        apcp_AVE = norm_precip(apcp_AVE)\n",
    "        apcp_AVE[:, land_mask_CCPA] = 0.0\n",
    "\n",
    "        apcp_STD = norm_precip(apcp_STD)\n",
    "        apcp_STD[:, land_mask_CCPA] = 0.0\n",
    "\n",
    "        GEFS_embed[...] = np.nan\n",
    "        CCPA_embed[...] = np.nan\n",
    "        \n",
    "        for ilead, lead in enumerate(LEADs):\n",
    "            d_ = lead // 24\n",
    "            day = d + d_\n",
    "            ind_hour = lead % 24\n",
    "            ind_hour = int(ind_hour/6)\n",
    "\n",
    "            CCPA_true[ilead, ...] = CCPA[day, ind_hour, ...]\n",
    "            ccpa_input = CCPA[day, ind_hour, ...][None, ..., None]\n",
    "            \n",
    "            gefs_ave_input = apcp_AVE[ilead, ...][None, ..., None]\n",
    "            gefs_std_input = apcp_STD[ilead, ...][None, ..., None]\n",
    "            \n",
    "            CCPA_embed[ilead, ...] = model_encoder.predict(ccpa_input, verbose=0)[0, ...]\n",
    "            GEFS_embed[ilead, ..., 4:8] = model_encoder.predict(gefs_ave_input, verbose=0)\n",
    "            GEFS_embed[ilead, ..., 8:12] = model_encoder.predict(gefs_std_input, verbose=0)\n",
    "            \n",
    "            gefs_input = apcp[ilead, ...][..., None]\n",
    "            GEFS_embed[ilead, ..., 0:4] = model_encoder.predict(gefs_input, verbose=0)\n",
    "    \n",
    "        if np.sum(np.isnan(CCPA_embed)) + np.sum(np.isnan(GEFS_embed)) == 0:        \n",
    "            data_save = {}\n",
    "            data_save['GEFS_raw'] = to_precip(apcp)\n",
    "            data_save['CCPA_true'] = CCPA_true\n",
    "            data_save['CCPA_embed'] = CCPA_embed\n",
    "            data_save['GEFS_embed'] = GEFS_embed\n",
    "            save_name_ = BATCH_dir+batch_name.format(dt_str)\n",
    "            print(save_name_)\n",
    "            np.save(save_name_, data_save)\n",
    "        else:\n",
    "            raise"
   ]
  },
  {
   "cell_type": "markdown",
   "id": "371faca8-6743-4f6c-8712-892478fe9be4",
   "metadata": {},
   "source": [
    "### Check batch quality"
   ]
  },
  {
   "cell_type": "code",
   "execution_count": 36,
   "id": "71d802d6-16c4-4927-87a6-69b79f541348",
   "metadata": {},
   "outputs": [
    {
     "data": {
      "text/plain": [
       "<matplotlib.collections.QuadMesh at 0x14ff2987ed40>"
      ]
     },
     "execution_count": 36,
     "metadata": {},
     "output_type": "execute_result"
    },
    {
     "data": {
      "image/png": "[encoded data removed]",
      "text/plain": [
       "<Figure size 640x480 with 1 Axes>"
      ]
     },
     "metadata": {},
     "output_type": "display_data"
    }
   ],
   "source": [
    "plt.pcolormesh(data_save['GEFS_embed'][-5, 0, ..., 0], vmin=-0.1, vmax=0.1, cmap=plt.cm.RdBu_r)"
   ]
  },
  {
   "cell_type": "code",
   "execution_count": null,
   "id": "bf49046f-ad8e-4abd-ab64-fdf25209b2c3",
   "metadata": {},
   "outputs": [],
   "source": []
  }
 ],
 "metadata": {
  "kernelspec": {
   "display_name": "Python 3 (ipykernel)",
   "language": "python",
   "name": "python3"
  },
  "language_info": {
   "codemirror_mode": {
    "name": "ipython",
    "version": 3
   },
   "file_extension": ".py",
   "mimetype": "text/x-python",
   "name": "python",
   "nbconvert_exporter": "python",
   "pygments_lexer": "ipython3",
   "version": "3.10.13"
  }
 },
 "nbformat": 4,
 "nbformat_minor": 5
}
