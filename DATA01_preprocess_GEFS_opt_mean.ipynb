{
 "cells": [
  {
   "cell_type": "markdown",
   "id": "b97c5d83-9537-4f73-8256-d97a8ff7f2f1",
   "metadata": {},
   "source": [
    "# Operational GEFS preprocessing\n",
    "\n",
    "This notebook converts operatoinal GEFS enemble mean grib2 files into h5 format\n",
    "\n",
    "* `$camp_dir/GFS/geave_y{}.hdf`"
   ]
  },
  {
   "cell_type": "code",
   "execution_count": 1,
   "id": "f976b7bd-6e84-4652-b7f6-0fc4afa7e594",
   "metadata": {},
   "outputs": [],
   "source": [
    "import os\n",
    "import sys\n",
    "import time\n",
    "import h5py\n",
    "import pygrib\n",
    "\n",
    "import numpy as np\n",
    "# import netCDF4 as nc\n",
    "from glob import glob\n",
    "\n",
    "from scipy.interpolate import RegularGridInterpolator\n",
    "from datetime import datetime, timedelta"
   ]
  },
  {
   "cell_type": "code",
   "execution_count": 2,
   "id": "39c5cd2a-015f-47e6-85c7-e2e4852a4f30",
   "metadata": {},
   "outputs": [],
   "source": [
    "sys.path.insert(0, '/glade/u/home/ksha/GAN_proj/')\n",
    "sys.path.insert(0, '/glade/u/home/ksha/GAN_proj/libs/')\n",
    "\n",
    "from namelist import *\n",
    "import data_utils as du"
   ]
  },
  {
   "cell_type": "code",
   "execution_count": 3,
   "id": "0312ec81-4653-4dee-90c2-eb20b251089e",
   "metadata": {},
   "outputs": [],
   "source": [
    "import matplotlib.pyplot as plt\n",
    "%matplotlib inline"
   ]
  },
  {
   "cell_type": "code",
   "execution_count": 4,
   "id": "cf5408d3-e0eb-4e2b-bb27-b1a5c8227f8d",
   "metadata": {},
   "outputs": [],
   "source": [
    "base = datetime(2021, 1, 1)\n",
    "date_list = [base + timedelta(days=day) for day in range(365)]\n",
    "\n",
    "LEADs = np.arange(6, 144+6, 6)\n",
    "\n",
    "with h5py.File(save_dir+'CCPA_domain.hdf', 'r') as h5io:\n",
    "    lon_CCPA = h5io['lon_CCPA'][...]\n",
    "    lat_CCPA = h5io['lat_CCPA'][...]\n",
    "\n",
    "lon_CCPA += 360"
   ]
  },
  {
   "cell_type": "code",
   "execution_count": 5,
   "id": "9920f177-67ff-417c-a552-fd8e9b28f32c",
   "metadata": {},
   "outputs": [],
   "source": [
    "grid_shape = lon_CCPA.shape\n",
    "N_days = len(date_list)\n",
    "N_leads = len(LEADs)\n",
    "\n",
    "# apcp_members = np.empty((N_ens,)+grid_shape); apcp_members[...] = np.nan"
   ]
  },
  {
   "cell_type": "code",
   "execution_count": 1,
   "id": "dbfa1a90-b5b0-4f0d-b10b-9a075a4350c9",
   "metadata": {
    "scrolled": true
   },
   "outputs": [],
   "source": [
    "filename_base = camp_dir+'GFS/{}.hdf'\n",
    "\n",
    "for i, dt in enumerate(date_list):\n",
    "    dt_str = datetime.strftime(dt, '%Y%m%d')\n",
    "    filename_ = filename_base.format(dt_str)\n",
    "    \n",
    "    if os.path.isfile(filename_):\n",
    "        # apcp_members[...] = np.nan\n",
    "\n",
    "        with h5py.File(filename_, 'r') as h5io:\n",
    "            apcp = h5io['apcp'][...]\n",
    "\n",
    "        apcp_mean = np.nanmean(apcp, axis=1)\n",
    "        apcp_std = np.nanstd(apcp, axis=1)\n",
    "        \n",
    "        # tuple_save = (apcp_mean,)\n",
    "        # label_save = ['apcp_mean',]\n",
    "        # du.save_hdf5(tuple_save, label_save, camp_dir+'GFS/', \n",
    "        #              '{}_mean.hdf'.format(dt_str))\n",
    "\n",
    "        # tuple_save = (apcp_std,)\n",
    "        # label_save = ['apcp_std',]\n",
    "        # du.save_hdf5(tuple_save, label_save, camp_dir+'GFS/', \n",
    "        #              '{}_std.hdf'.format(dt_str))"
   ]
  },
  {
   "cell_type": "code",
   "execution_count": null,
   "id": "d0b6996f-81a8-4741-8f10-cb2a22b6e9d4",
   "metadata": {},
   "outputs": [],
   "source": []
  }
 ],
 "metadata": {
  "kernelspec": {
   "display_name": "Python 3 (ipykernel)",
   "language": "python",
   "name": "python3"
  },
  "language_info": {
   "codemirror_mode": {
    "name": "ipython",
    "version": 3
   },
   "file_extension": ".py",
   "mimetype": "text/x-python",
   "name": "python",
   "nbconvert_exporter": "python",
   "pygments_lexer": "ipython3",
   "version": "3.10.13"
  }
 },
 "nbformat": 4,
 "nbformat_minor": 5
}
