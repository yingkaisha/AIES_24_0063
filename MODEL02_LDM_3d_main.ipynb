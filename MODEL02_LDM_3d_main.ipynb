{
 "cells": [
  {
   "cell_type": "markdown",
   "id": "7184eacc-7e1f-4419-b3c2-028a9009eff5",
   "metadata": {},
   "source": [
    "# Latent diffusion model for generating ensembl members\n",
    "\n",
    "This notebook contains information for the design, hyperparameters, and training of a LDM that generates ensemble members from the bias-corrected ensemble mean."
   ]
  },
  {
   "cell_type": "code",
   "execution_count": 1,
   "id": "969ca223-fe95-44f5-9fed-4f91df5814d6",
   "metadata": {},
   "outputs": [],
   "source": [
    "import os\n",
    "import sys\n",
    "import time\n",
    "import math\n",
    "import h5py\n",
    "import logging\n",
    "import warnings\n",
    "import numpy as np\n",
    "from glob import glob\n",
    "\n",
    "# supress regular warnings\n",
    "warnings.filterwarnings(\"ignore\")\n",
    "os.environ['TF_CPP_MIN_LOG_LEVEL'] = '3' \n",
    "logging.getLogger(\"tensorflow\").setLevel(logging.ERROR)\n",
    "\n",
    "import tensorflow as tf\n",
    "from tensorflow import keras\n",
    "from tensorflow.keras import layers\n",
    "\n",
    "# supress tensorflow warnings\n",
    "tf.autograph.set_verbosity(0)\n",
    "tf.get_logger().setLevel('ERROR')\n",
    "\n",
    "# adjust for time step embedding layer\n",
    "tf.config.run_functions_eagerly(True)"
   ]
  },
  {
   "cell_type": "code",
   "execution_count": 2,
   "id": "22cfec79-8be6-4215-8c3a-0dd98fcc26e4",
   "metadata": {},
   "outputs": [],
   "source": [
    "sys.path.insert(0, '/glade/u/home/ksha/GAN_proj/')\n",
    "sys.path.insert(0, '/glade/u/home/ksha/GAN_proj/libs/')\n",
    "\n",
    "from namelist import *\n",
    "import data_utils as du\n",
    "import model_utils as mu\n",
    "import verif_utils as vu"
   ]
  },
  {
   "cell_type": "code",
   "execution_count": 3,
   "id": "145d2a0e-a885-4356-b54a-ed3e606c1eab",
   "metadata": {},
   "outputs": [],
   "source": [
    "import matplotlib.pyplot as plt\n",
    "%matplotlib inline"
   ]
  },
  {
   "cell_type": "code",
   "execution_count": 4,
   "id": "389c7e8d-d7be-402d-9bc1-6efe81992eaf",
   "metadata": {},
   "outputs": [],
   "source": [
    "mu.set_seeds(888)"
   ]
  },
  {
   "cell_type": "markdown",
   "id": "482358b2-f48d-415c-a7c9-b18b882b9d35",
   "metadata": {},
   "source": [
    "## Import VQ-VAE decoder"
   ]
  },
  {
   "cell_type": "code",
   "execution_count": 5,
   "id": "8ea6b59e-3b7b-4f22-aeb7-789e315e02ca",
   "metadata": {},
   "outputs": [],
   "source": [
    "# Hyperparameters\n",
    "filter_nums = [64, 128] # number of convolution kernels per down-/upsampling layer \n",
    "latent_dim = 4 # number of latent feature channels\n",
    "activation = 'gelu' # activation function\n",
    "num_embeddings = 128 #128 # number of the VQ codes\n",
    "\n",
    "input_size = (224, 464, 1) # size of MRMS input\n",
    "latent_size = (14, 29, latent_dim) # size of compressed latent features\n",
    "\n",
    "drop_encode = False\n",
    "drop_decode = False\n",
    "\n",
    "model_name_encoder_load = model_dir+'models/VQ_VAE_encoder_stack1_tune0'\n",
    "model_name_decoder_load = model_dir+'models/VQ_VAE_decoder_stack1_tune0'\n",
    "\n",
    "encoder = mu.VQ_VAE_encoder(input_size, filter_nums, latent_dim, num_embeddings, activation, drop_encode)\n",
    "W_old = mu.dummy_loader(model_name_encoder_load)\n",
    "encoder.set_weights(W_old)\n",
    "\n",
    "decoder = mu.VQ_VAE_decoder(latent_size, filter_nums, activation, drop_decode)\n",
    "W_old = mu.dummy_loader(model_name_decoder_load)\n",
    "decoder.set_weights(W_old)"
   ]
  },
  {
   "cell_type": "markdown",
   "id": "4513740d-4fd0-4bca-93a9-4e0e47da2d35",
   "metadata": {},
   "source": [
    "## LDM config"
   ]
  },
  {
   "cell_type": "code",
   "execution_count": 6,
   "id": "12aef6a8-38a2-411f-9459-e4c6e669a7a2",
   "metadata": {},
   "outputs": [],
   "source": [
    "# diffusion steps\n",
    "diffusion_steps = 100"
   ]
  },
  {
   "cell_type": "code",
   "execution_count": 7,
   "id": "c7dfb9d5-d852-47a8-9f85-eb2e01941056",
   "metadata": {},
   "outputs": [],
   "source": [
    "# min-max values\n",
    "ccpa_min = -2.0606\n",
    "ccpa_max = 1.6031\n",
    "\n",
    "LEADs = np.arange(6, 144+6, 6) # forecast lead times\n",
    "N_leads = len(LEADs)\n",
    "\n",
    "# The tensor size of embedded CCPA and GEFS ensemble mean \n",
    "latent_size = (14, 29, 4)\n",
    "input_size = (N_leads,) + latent_size\n",
    "\n",
    "# model design\n",
    "widths = [32, 64, 96, 128]\n",
    "embedding_dims = 32\n",
    "block_depth = 2\n",
    "\n",
    "min_signal_rate = 0.02\n",
    "max_signal_rate = 0.95\n",
    "ema = 0.999\n",
    "\n",
    "load_weights = True\n",
    "# location of the previous weights\n",
    "model_name_load = model_dir+'baseline/LDM_step{:02d}_base/'.format(diffusion_steps)\n",
    "\n",
    "# location for saving new weights\n",
    "model_name_save = model_dir+'baseline/LDM_step{:02d}_base/'.format(diffusion_steps)\n",
    "\n",
    "epochs = 99999\n",
    "N_batch = 2\n",
    "batch_size_ = 64\n",
    "batch_size = batch_size_*32\n",
    "lr = 1e-4"
   ]
  },
  {
   "cell_type": "code",
   "execution_count": 22,
   "id": "16e0f746-5211-4581-a825-22f4decb00e4",
   "metadata": {},
   "outputs": [],
   "source": [
    "def rescale(x, min_val=ccpa_min, max_val=ccpa_max):\n",
    "    return ((x - min_val) / (max_val - min_val))* 2 - 1\n",
    "\n",
    "def scaleback(x, min_val=ccpa_min, max_val=ccpa_max):\n",
    "    return 0.5*(x+1)*(max_val-min_val) + min_val\n",
    "\n",
    "def to_precip(x):\n",
    "    x[x<0] = 0\n",
    "    return 10*(np.exp(x) - 1)\n",
    "\n",
    "def valid_func(valid_true_CCPA, decoder, LDM, valid_ViT, land_mask_CCPA):\n",
    "    L_valid, N_leads, EN, _, _, _ = valid_ViT.shape\n",
    "    \n",
    "    Y_pred_ViT = np.empty((L_valid, N_leads, EN, 224, 464))\n",
    "    \n",
    "    for ien in range(EN):\n",
    "        y_pred_vit = LDM.generate(L_valid, valid_ViT[:, :, ien, ...])\n",
    "        y_pred_vit = scaleback(np.array(y_pred_vit))\n",
    "        \n",
    "        for ilead in range(N_leads):\n",
    "            Y_pred_ViT[:, ilead, ien, ...] = decoder.predict(y_pred_vit[:, ilead, ...], verbose=0)[..., 0]\n",
    "\n",
    "    Y_pred_ViT = to_precip(Y_pred_ViT)\n",
    "    Y_pred_ViT[Y_pred_ViT<0] = 0\n",
    "    \n",
    "    CRPS = np.empty((L_valid, N_leads, 224, 464)); CRPS[...] = np.nan\n",
    "    \n",
    "    for ilead in range(N_leads):\n",
    "    \n",
    "        crps_ilead, _, _ = vu.CRPS_2d(valid_true_CCPA[:, ilead, ...], \n",
    "                                      Y_pred_ViT[:, ilead, ...], land_mask=land_mask_CCPA)\n",
    "        CRPS[:, ilead, ...] = crps_ilead\n",
    "\n",
    "    return np.nanmean(CRPS)\n",
    "    \n",
    "def base_func(valid_true_CCPA, decoder, valid_ViT, land_mask_CCPA):\n",
    "    L_valid, N_leads, EN, _, _, _ = valid_ViT.shape\n",
    "    \n",
    "    Y_pred_ViT = np.empty((L_valid, N_leads, EN, 224, 464))\n",
    "    \n",
    "    for ien in range(EN):        \n",
    "        for ilead in range(N_leads):\n",
    "            Y_pred_ViT[:, ilead, ien, ...] = decoder.predict(valid_ViT[:, ilead, ien, ...], verbose=0)[..., 0]\n",
    "\n",
    "    Y_pred_ViT = to_precip(Y_pred_ViT)\n",
    "    Y_pred_ViT[Y_pred_ViT<0] = 0\n",
    "    \n",
    "    CRPS = np.empty((L_valid, N_leads, 224, 464)); CRPS[...] = np.nan\n",
    "    \n",
    "    for ilead in range(N_leads):\n",
    "    \n",
    "        crps_ilead, _, _ = vu.CRPS_2d(valid_true_CCPA[:, ilead, ...], \n",
    "                                      Y_pred_ViT[:, ilead, ...], land_mask=land_mask_CCPA)\n",
    "        CRPS[:, ilead, ...] = crps_ilead\n",
    "\n",
    "    return np.nanmean(CRPS)"
   ]
  },
  {
   "cell_type": "markdown",
   "id": "8419e6eb-765a-4c31-87b0-27c22eeb6390",
   "metadata": {},
   "source": [
    "## Prepare validation set"
   ]
  },
  {
   "cell_type": "code",
   "execution_count": 9,
   "id": "26ec52f4-4be0-496f-95e3-3ba6b83efe06",
   "metadata": {},
   "outputs": [],
   "source": [
    "with h5py.File(save_dir+'CCPA_domain.hdf', 'r') as h5io:\n",
    "    land_mask_CCPA = h5io['land_mask_CCPA'][...]\n",
    "    \n",
    "land_mask_CCPA = land_mask_CCPA == 1.0\n",
    "ccpa_shape = land_mask_CCPA.shape"
   ]
  },
  {
   "cell_type": "code",
   "execution_count": 10,
   "id": "e3836a8a-f073-417b-8e04-cd56928474c8",
   "metadata": {},
   "outputs": [],
   "source": [
    "BATCH_dir = camp_dir+'BATCH_LDM_member_OPT/'\n",
    "filenames = sorted(glob(BATCH_dir+'*npy'))"
   ]
  },
  {
   "cell_type": "code",
   "execution_count": 19,
   "id": "8f8550fd-c2fc-4206-8310-1e58c776c782",
   "metadata": {},
   "outputs": [],
   "source": [
    "EN = 31\n",
    "\n",
    "BATCH_dir = camp_dir+'BATCH_LDM_member_OPT/'\n",
    "filenames = sorted(glob(BATCH_dir+'*npy'))\n",
    "\n",
    "L_valid = 20\n",
    "filenames_valid = filenames[::7][:L_valid]\n",
    "\n",
    "valid_true_CCPA = np.empty((L_valid, N_leads,)+ccpa_shape)\n",
    "valid_ViT = np.empty((L_valid, N_leads, EN)+latent_size)\n",
    "\n",
    "for i, name_ in enumerate(filenames_valid):\n",
    "    temp_data = np.load(name_, allow_pickle=True)[()]\n",
    "    valid_true_CCPA[i, ...] = temp_data['CCPA_true'][:N_leads, ...]\n",
    "    valid_ViT[i, ...] = temp_data['ViT_embed'][:N_leads, ...]\n",
    "    \n",
    "valid_ViT = rescale(valid_ViT)\n",
    "valid_ViT = valid_ViT[:, :, :5, ...]"
   ]
  },
  {
   "cell_type": "code",
   "execution_count": 12,
   "id": "f215ec22-ba1f-47dd-839c-eecea00acfea",
   "metadata": {},
   "outputs": [],
   "source": [
    "BATCH_dir = camp_dir+'BATCH_LDM_member/'\n",
    "filename_train = sorted(glob(BATCH_dir+'*npy'))\n",
    "\n",
    "# filename_train = list(set(filenames) - set(filenames_valid))\n",
    "L_train = len(filename_train)\n",
    "\n",
    "min_del = 0.0\n",
    "max_tol = 3 # early stopping with 2-epoch patience\n",
    "tol = 0"
   ]
  },
  {
   "cell_type": "code",
   "execution_count": 1,
   "id": "8705589c-496f-42bf-8175-0493aee1277c",
   "metadata": {},
   "outputs": [],
   "source": [
    "decay_steps = batch_size/batch_size_\n",
    "cosine_decay = tf.keras.optimizers.schedules.CosineDecay(initial_learning_rate=lr, \n",
    "                                                         decay_steps=decay_steps, \n",
    "                                                         alpha=0.1)\n",
    "\n",
    "model= mu.DiffusionModel(input_size, input_size, input_size, \n",
    "                        diffusion_steps, min_signal_rate, max_signal_rate, \n",
    "                        embedding_dims, widths, block_depth, ema)\n",
    "\n",
    "model.compile(loss=keras.losses.mean_absolute_error, optimizer=keras.optimizers.AdamW(learning_rate=cosine_decay))\n",
    "\n",
    "# load previous weights\n",
    "if load_weights:\n",
    "    model.load_weights(model_name_load)\n",
    "\n",
    "batch_CCPA = np.empty((batch_size, N_leads,)+latent_size)\n",
    "batch_CCPA[...] = np.nan\n",
    "\n",
    "batch_ViT = np.empty((batch_size, N_leads,)+latent_size)\n",
    "batch_ViT[...] = np.nan\n",
    "\n",
    "for i in range(epochs):\n",
    "    print('epoch = {}'.format(i))\n",
    "    if i == 0:\n",
    "        if load_weights:\n",
    "            record = valid_func(valid_true_CCPA, decoder, model, valid_ViT, land_mask_CCPA)\n",
    "        else:\n",
    "            record = 999\n",
    "        print('Initial validation loss: {}'.format(record))\n",
    "        \n",
    "    start_time = time.time()\n",
    "    for j in range(N_batch):\n",
    "        #start_time = time.time()\n",
    "        inds_rnd = du.shuffle_ind(L_train)\n",
    "        inds_ = inds_rnd[:batch_size]\n",
    "        \n",
    "        for k, ind in enumerate(inds_):\n",
    "            # import batch data\n",
    "            name_ = filename_train[ind]\n",
    "            temp_data = np.load(name_, allow_pickle=True)[()]\n",
    "            batch_CCPA[k, ...] = temp_data['CCPA_embed'][:N_leads, ...]\n",
    "            batch_ViT[k, ...] = temp_data['ViT_embed'][:N_leads, ...]\n",
    "\n",
    "        batch_CCPA = rescale(batch_CCPA)\n",
    "        batch_ViT = rescale(batch_ViT)\n",
    "        \n",
    "        model.fit([batch_CCPA, batch_ViT], batch_size=batch_size_, epochs=1, verbose=0)\n",
    "        #print(\"--- %s seconds ---\" % (time.time() - start_time))\n",
    "    # on epoch-end\n",
    "    record_temp = valid_func(valid_true_CCPA, decoder, model, valid_ViT, land_mask_CCPA)\n",
    "    \n",
    "    # print out valid loss change\n",
    "    if record - record_temp > min_del:\n",
    "        print('Validation loss improved from {} to {}'.format(record, record_temp))\n",
    "        record = record_temp\n",
    "        print(\"Save to {}\".format(model_name_save))\n",
    "        model.save_weights(model_name_save)\n",
    "    else:\n",
    "        print('Validation loss {} NOT improved'.format(record_temp))\n",
    "        \n",
    "    print(\"--- %s seconds ---\" % (time.time() - start_time))\n",
    "    # mannual callbacks"
   ]
  },
  {
   "cell_type": "markdown",
   "id": "4840a2cc-082f-4efc-bb97-7b7f2a1294ca",
   "metadata": {},
   "source": [
    "## Predition tests"
   ]
  },
  {
   "cell_type": "code",
   "execution_count": 13,
   "id": "5cd75f0b-e4f5-4296-96dd-277db63226d5",
   "metadata": {},
   "outputs": [],
   "source": [
    "model = mu.DiffusionModel(input_size, input_size, input_size, \n",
    "                        diffusion_steps, min_signal_rate, max_signal_rate, \n",
    "                        embedding_dims, widths, block_depth, ema)\n",
    "# load previous weights\n",
    "model.load_weights(model_name_save);"
   ]
  },
  {
   "cell_type": "code",
   "execution_count": 23,
   "id": "1ef12138-a1a0-4018-924c-7528ac6de412",
   "metadata": {},
   "outputs": [
    {
     "data": {
      "text/plain": [
       "0.1048040653674857"
      ]
     },
     "execution_count": 23,
     "metadata": {},
     "output_type": "execute_result"
    }
   ],
   "source": [
    "valid_func(valid_true_CCPA, decoder, model, valid_ViT, land_mask_CCPA)"
   ]
  },
  {
   "cell_type": "code",
   "execution_count": 24,
   "id": "0acdc8a2-aecc-4f84-a1f8-66dc6dcf2a28",
   "metadata": {},
   "outputs": [
    {
     "data": {
      "text/plain": [
       "0.10541903031870066"
      ]
     },
     "execution_count": 24,
     "metadata": {},
     "output_type": "execute_result"
    }
   ],
   "source": [
    "base_func(valid_true_CCPA, decoder, valid_ViT, land_mask_CCPA)"
   ]
  },
  {
   "cell_type": "code",
   "execution_count": 26,
   "id": "88eade5d-a36c-49be-89ae-01feff4e8c4f",
   "metadata": {},
   "outputs": [],
   "source": [
    "def inference_func(valid_true_CCPA, decoder, LDM, valid_ViT, land_mask_CCPA):\n",
    "    L_valid, N_leads, EN, _, _, _ = valid_ViT.shape\n",
    "    \n",
    "    Y_pred_ViT = np.empty((L_valid, N_leads, EN, 224, 464))\n",
    "    \n",
    "    for ien in range(EN):\n",
    "        y_pred_vit = LDM.generate(L_valid, valid_ViT[:, :, ien, ...])\n",
    "        y_pred_vit = scaleback(np.array(y_pred_vit))\n",
    "        \n",
    "        for ilead in range(N_leads):\n",
    "            Y_pred_ViT[:, ilead, ien, ...] = decoder.predict(y_pred_vit[:, ilead, ...], verbose=0)[..., 0]\n",
    "\n",
    "    Y_pred_ViT = to_precip(Y_pred_ViT)\n",
    "    Y_pred_ViT[Y_pred_ViT<0] = 0\n",
    "    return Y_pred_ViT"
   ]
  },
  {
   "cell_type": "code",
   "execution_count": 27,
   "id": "410f96b4-41cc-457a-8b54-4801dc692a7f",
   "metadata": {},
   "outputs": [],
   "source": [
    "examples = inference_func(valid_true_CCPA, decoder, model, valid_ViT, land_mask_CCPA)"
   ]
  },
  {
   "cell_type": "code",
   "execution_count": 28,
   "id": "ec4b480c-46af-4bd7-a925-32366c337a29",
   "metadata": {},
   "outputs": [
    {
     "data": {
      "text/plain": [
       "<matplotlib.colorbar.Colorbar at 0x14d2d5badd80>"
      ]
     },
     "execution_count": 28,
     "metadata": {},
     "output_type": "execute_result"
    },
    {
     "data": {
      "image/png": "[encoded data removed]",
      "text/plain": [
       "<Figure size 640x480 with 2 Axes>"
      ]
     },
     "metadata": {},
     "output_type": "display_data"
    }
   ],
   "source": [
    "plt.pcolormesh(examples[0, 0, 4, ...], vmin=0, vmax=35, cmap=plt.cm.nipy_spectral_r)\n",
    "plt.colorbar()"
   ]
  },
  {
   "cell_type": "code",
   "execution_count": null,
   "id": "498e80b6-3b73-4bd9-b3f9-2dd4d1fa12cf",
   "metadata": {},
   "outputs": [],
   "source": []
  }
 ],
 "metadata": {
  "kernelspec": {
   "display_name": "Python 3 (ipykernel)",
   "language": "python",
   "name": "python3"
  },
  "language_info": {
   "codemirror_mode": {
    "name": "ipython",
    "version": 3
   },
   "file_extension": ".py",
   "mimetype": "text/x-python",
   "name": "python",
   "nbconvert_exporter": "python",
   "pygments_lexer": "ipython3",
   "version": "3.10.13"
  }
 },
 "nbformat": 4,
 "nbformat_minor": 5
}
