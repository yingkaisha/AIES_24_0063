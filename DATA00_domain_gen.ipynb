{
 "cells": [
  {
   "cell_type": "markdown",
   "id": "2ffcb576-c907-40f6-afee-4babbcdb3c5c",
   "metadata": {},
   "source": [
    "# CCPA domain generation\n",
    "\n",
    "This notebook generates lat lon grids, elevation, and land mask for CCPA data."
   ]
  },
  {
   "cell_type": "code",
   "execution_count": 2,
   "id": "0dd39de9-dc5e-4427-bda8-f2e210390c84",
   "metadata": {},
   "outputs": [],
   "source": [
    "# ------------------------------------------------------- #\n",
    "# system tools\n",
    "import sys\n",
    "import time\n",
    "from glob import glob\n",
    "from datetime import datetime, timedelta\n",
    "\n",
    "# ------------------------------------------------------- #\n",
    "# data tools\n",
    "import h5py\n",
    "import pygrib\n",
    "import numpy as np\n",
    "import netCDF4 as nc\n",
    "\n",
    "# ------------------------------------------------------- #\n",
    "# Interpolation tools\n",
    "#from scipy.spatial import cKDTree\n",
    "from scipy.interpolate import griddata\n",
    "import scipy.interpolate as spint\n",
    "from scipy.spatial import Delaunay\n",
    "import itertools\n",
    "\n",
    "# ------------------------------------------------------- #\n",
    "# graph tools\n",
    "import cmaps\n",
    "import cartopy.crs as ccrs\n",
    "import cartopy.mpl.geoaxes\n",
    "import cartopy.feature as cfeature\n",
    "from cartopy.io.shapereader import Reader\n",
    "from cartopy.feature import ShapelyFeature\n",
    "from cartopy.mpl.gridliner import LONGITUDE_FORMATTER, LATITUDE_FORMATTER"
   ]
  },
  {
   "cell_type": "code",
   "execution_count": 3,
   "id": "62d1566c-39cd-448f-963f-44d64cbeb3b8",
   "metadata": {},
   "outputs": [],
   "source": [
    "import matplotlib.pyplot as plt\n",
    "%matplotlib inline"
   ]
  },
  {
   "cell_type": "code",
   "execution_count": 4,
   "id": "ab3a6f8e-a2b6-424e-bdec-f14f7ad4eb4f",
   "metadata": {},
   "outputs": [],
   "source": [
    "sys.path.insert(0, '/glade/u/home/ksha/GAN_proj/')\n",
    "sys.path.insert(0, '/glade/u/home/ksha/GAN_proj/libs/')\n",
    "\n",
    "from namelist import *\n",
    "import data_utils as du"
   ]
  },
  {
   "cell_type": "markdown",
   "id": "4e700c10-e3ab-44b6-9589-227bb32297d9",
   "metadata": {},
   "source": [
    "## Helper functions"
   ]
  },
  {
   "cell_type": "code",
   "execution_count": 4,
   "id": "47e69177-2e4d-4945-bf0b-111cf3658ab9",
   "metadata": {},
   "outputs": [],
   "source": [
    "# def interp_weights(xy, uv, d=2):\n",
    "#     tri = Delaunay(xy)\n",
    "#     simplex = tri.find_simplex(uv)\n",
    "#     vertices = np.take(tri.simplices, simplex, axis=0)\n",
    "#     temp = np.take(tri.transform, simplex, axis=0)\n",
    "#     delta = uv - temp[:, d]\n",
    "#     bary = np.einsum('njk,nk->nj', temp[:, :d, :], delta)\n",
    "#     return vertices, np.hstack((bary, 1 - bary.sum(axis=1, keepdims=True)))\n",
    "\n",
    "# def interpolate(values, vtx, wts):\n",
    "#     return np.einsum('nj,nj->n', np.take(values, vtx), wts)"
   ]
  },
  {
   "cell_type": "markdown",
   "id": "1e76dfb8-da05-457a-a23c-673d546a3ded",
   "metadata": {},
   "source": [
    "## Get CCPA 1/8 degree lat lons from grib"
   ]
  },
  {
   "cell_type": "code",
   "execution_count": 5,
   "id": "f83ba0d9-ee1a-4e68-8c94-e4ee285edaef",
   "metadata": {},
   "outputs": [],
   "source": [
    "# filename = sorted(glob(camp_dir+'wget_CCPA/ccpa.20030101/12/*06h*'))\n",
    "\n",
    "# with pygrib.open(filename[0]) as grbio:\n",
    "#     lat, lon = grbio[1].latlons()\n",
    "#     apcp = grbio[1].values\n",
    "\n",
    "# lon[:, -1] = lon[:, -1] - 360\n",
    "\n",
    "# tuple_save = (lon, lat)\n",
    "# label_save = ['lon_CCPA', 'lat_CCPA']\n",
    "# du.save_hdf5(tuple_save, label_save, save_dir, 'CCPA_domain.hdf')"
   ]
  },
  {
   "cell_type": "markdown",
   "id": "ea7691ab-3483-4de8-b2a9-6ec460e682a5",
   "metadata": {},
   "source": [
    "## Interpolate ETOPO1 to CCPA grids"
   ]
  },
  {
   "cell_type": "code",
   "execution_count": 10,
   "id": "85763d1f-3e9b-4808-bf4a-80f0c1196e6a",
   "metadata": {},
   "outputs": [],
   "source": [
    "# with h5py.File(save_dir+'CCPA_domain.hdf', 'r') as h5io:\n",
    "#     lon_CCPA = h5io['lon_CCPA'][...]\n",
    "#     lat_CCPA = h5io['lat_CCPA'][...]"
   ]
  },
  {
   "cell_type": "code",
   "execution_count": 12,
   "id": "0acc5aca-700b-4b95-a7b1-d4672365abdb",
   "metadata": {},
   "outputs": [],
   "source": [
    "# with nc.Dataset(camp_dir+'BACKUP/ETOPO1_Ice_g_gmt4.grd', 'r') as ncio:\n",
    "#     x = ncio['x'][2500:7400]\n",
    "#     y = ncio['y'][6500:9000]\n",
    "#     z = ncio['z'][6500:9000, 2500:7400]\n",
    "\n",
    "# long, lat = np.meshgrid(x, y)\n",
    "# long = np.array(long)\n",
    "# lat = np.array(lat)"
   ]
  },
  {
   "cell_type": "code",
   "execution_count": 13,
   "id": "a16e1074-b187-40da-91c3-0fec7b0dc4f5",
   "metadata": {},
   "outputs": [],
   "source": [
    "# # Computed once and for all\n",
    "# vtx, wts = interp_weights(np.vstack([long.ravel(), lat.ravel()]).T, \n",
    "#                           np.vstack([lon_CCPA.ravel(), lat_CCPA.ravel()]).T)"
   ]
  },
  {
   "cell_type": "code",
   "execution_count": 14,
   "id": "dc1b293c-caa3-4b02-8c40-6878cb2a0016",
   "metadata": {},
   "outputs": [],
   "source": [
    "# elev_CCPA_temp = interpolate(z.ravel(), vtx, wts)\n",
    "# elev_CCPA_temp = elev_CCPA_temp.reshape(lon_CCPA.shape)\n",
    "# elev_CCPA = np.copy(elev_CCPA_temp)\n",
    "# elev_CCPA[elev_CCPA<0] = 0"
   ]
  },
  {
   "cell_type": "markdown",
   "id": "299360da-c35a-418f-9115-934ad0874083",
   "metadata": {},
   "source": [
    "## Get CCPA land mask"
   ]
  },
  {
   "cell_type": "markdown",
   "id": "b4d31d01-7f5c-4461-aadb-41bdd576a71b",
   "metadata": {},
   "source": [
    "**Load old land mask from my HRRR project**"
   ]
  },
  {
   "cell_type": "code",
   "execution_count": null,
   "id": "818bfd12-572d-4c67-b9d6-f4ee323b5e98",
   "metadata": {},
   "outputs": [],
   "source": [
    "# with h5py.File(NCAR_dir+'HRRR_domain.hdf', 'r') as h5io:\n",
    "#     land_mask_3km = h5io['land_mask_3km'][...]\n",
    "#     lon_3km = h5io['lon_3km'][...]\n",
    "#     lat_3km = h5io['lat_3km'][...]"
   ]
  },
  {
   "cell_type": "code",
   "execution_count": 19,
   "id": "90937346-434a-40df-9b46-d31181afc4bc",
   "metadata": {},
   "outputs": [],
   "source": [
    "# # Computed once and for all\n",
    "# vtx, wts = interp_weights(np.vstack([lon_3km.ravel(), lat_3km.ravel()]).T, \n",
    "#                           np.vstack([lon_CCPA.ravel(), lat_CCPA.ravel()]).T)"
   ]
  },
  {
   "cell_type": "code",
   "execution_count": 20,
   "id": "e6470d00-5303-46cf-9056-71e7c72311dc",
   "metadata": {},
   "outputs": [],
   "source": [
    "# mask_CCPA_temp = interpolate(land_mask_3km.ravel(), vtx, wts)\n",
    "# mask_CCPA_temp = mask_CCPA_temp.reshape(lon_CCPA.shape)\n",
    "# land_mask_CCPA = np.copy(mask_CCPA_temp)\n",
    "# #elev_CCPA[elev_CCPA<0] = 0"
   ]
  },
  {
   "cell_type": "code",
   "execution_count": 23,
   "id": "bb2f46ad-c37c-4a37-b179-5fba8d03cc17",
   "metadata": {},
   "outputs": [],
   "source": [
    "# land_mask_CCPA[land_mask_CCPA>0.5] = 1.0\n",
    "# land_mask_CCPA[land_mask_CCPA<1.0] = 0.0"
   ]
  },
  {
   "cell_type": "code",
   "execution_count": 22,
   "id": "41680319-5d75-4c88-8035-2f69b237f4c4",
   "metadata": {},
   "outputs": [
    {
     "data": {
      "text/plain": [
       "<matplotlib.colorbar.Colorbar at 0x14aff3f60210>"
      ]
     },
     "execution_count": 22,
     "metadata": {},
     "output_type": "execute_result"
    },
    {
     "data": {
      "image/png": "[encoded data removed]",
      "text/plain": [
       "<Figure size 640x480 with 2 Axes>"
      ]
     },
     "metadata": {},
     "output_type": "display_data"
    }
   ],
   "source": [
    "# plt.pcolormesh(land_mask_CCPA)\n",
    "# plt.colorbar()"
   ]
  },
  {
   "cell_type": "markdown",
   "id": "4a6e01d1-2446-44e1-89d2-9e142ae9b23e",
   "metadata": {},
   "source": [
    "## A mask for the US states"
   ]
  },
  {
   "cell_type": "code",
   "execution_count": 6,
   "id": "10f7b362-918c-4720-a5ff-c09c240934c9",
   "metadata": {},
   "outputs": [],
   "source": [
    "import united_states"
   ]
  },
  {
   "cell_type": "code",
   "execution_count": null,
   "id": "30492564-e9c9-43f3-a78f-cc7591bb61c6",
   "metadata": {},
   "outputs": [],
   "source": [
    "with h5py.File(save_dir+'CCPA_domain.hdf', 'r') as h5io:\n",
    "    lon_CCPA = h5io['lon_CCPA'][...]\n",
    "    lat_CCPA = h5io['lat_CCPA'][...]\n",
    "    elev_CCPA = h5io['elev_CCPA'][...]\n",
    "    land_mask_CCPA = h5io['land_mask_CCPA'][...]"
   ]
  },
  {
   "cell_type": "code",
   "execution_count": 7,
   "id": "64178272-b84d-4233-81e9-1c781b419469",
   "metadata": {},
   "outputs": [],
   "source": [
    "def str_search(strs, keys, verbose=True):\n",
    "    '''\n",
    "    Return the index of each keys element from strs\n",
    "    e.g.\n",
    "        strs = ['a', 'b', 'c', 'd']; keys = ['a', 'c']\n",
    "        str_serach(...) --> [0, 2]\n",
    "    '''\n",
    "    ind = []\n",
    "    for key in keys:\n",
    "        ind_temp = [i for i,s in enumerate(strs) if key in s]\n",
    "        if len(ind_temp) == 1:\n",
    "            ind.append(ind_temp[0])\n",
    "        elif len(ind_temp) > 1:\n",
    "            if verbose:\n",
    "                print('duplicate items (will pick the last one):')\n",
    "            for ind_d in ind_temp:\n",
    "                if verbose:\n",
    "                    print('{} --> {}'.format(ind_d, strs[ind_d]))\n",
    "            ind.append(ind_d)\n",
    "        else:\n",
    "            if verbose:\n",
    "                print('item {} not found.'.format(key))\n",
    "            ind.append(9999)\n",
    "    return ind"
   ]
  },
  {
   "cell_type": "code",
   "execution_count": 8,
   "id": "1cf9f9d6-807e-415e-8966-ea1c4e89b5c6",
   "metadata": {},
   "outputs": [],
   "source": [
    "state_names = [\n",
    "    'Alabama',\n",
    "    'Arizona',\n",
    "    'Arkansas',\n",
    "    'California',\n",
    "    'Colorado',\n",
    "    'Connecticut',\n",
    "    'Delaware',\n",
    "    'Florida',\n",
    "    'Georgia',\n",
    "    'Idaho',\n",
    "    'Illinois',\n",
    "    'Indiana',\n",
    "    'Iowa',\n",
    "    'Kansas',\n",
    "    'Kentucky',\n",
    "    'Louisiana',\n",
    "    'Maine',\n",
    "    'Maryland',\n",
    "    'Massachusetts',\n",
    "    'Michigan',\n",
    "    'Minnesota',\n",
    "    'Mississippi',\n",
    "    'Missouri',\n",
    "    'Montana',\n",
    "    'Nebraska',\n",
    "    'Nevada',\n",
    "    'New Hampshire',\n",
    "    'New Jersey',\n",
    "    'New Mexico',\n",
    "    'New York',\n",
    "    'North Carolina',\n",
    "    'North Dakota',\n",
    "    'Ohio',\n",
    "    'Oklahoma',\n",
    "    'Oregon',\n",
    "    'Pennsylvania',\n",
    "    'Rhode Island',\n",
    "    'South Carolina',\n",
    "    'South Dakota',\n",
    "    'Tennessee',\n",
    "    'Texas',\n",
    "    'Utah',\n",
    "    'Vermont',\n",
    "    'Virginia',\n",
    "    'Washington',\n",
    "    'West Virginia',\n",
    "    'Wisconsin',\n",
    "    'Wyoming']"
   ]
  },
  {
   "cell_type": "code",
   "execution_count": 9,
   "id": "8d8be87f-5e1b-4766-aace-ff9416d0c7e1",
   "metadata": {},
   "outputs": [],
   "source": [
    "us = united_states.UnitedStates()"
   ]
  },
  {
   "cell_type": "code",
   "execution_count": 10,
   "id": "1093f4da-98d6-4860-b5c1-511d15a55a6f",
   "metadata": {},
   "outputs": [],
   "source": [
    "# Replace ' ' with '_', so it is one unique string \n",
    "\n",
    "state_names_match = []\n",
    "\n",
    "for name in state_names:\n",
    "    state_names_match.append(name.replace(\" \", \"_\"))"
   ]
  },
  {
   "cell_type": "markdown",
   "id": "a10b286c-b9a2-47cc-98ac-b46b947af2fa",
   "metadata": {},
   "source": [
    "**Identify which state each grid cell belongs to**"
   ]
  },
  {
   "cell_type": "code",
   "execution_count": 51,
   "id": "51a45192-056e-47ae-8a0d-7c4f9063e4a8",
   "metadata": {},
   "outputs": [],
   "source": [
    "# shape_ccpa = lon_CCPA.shape\n",
    "# state_id = np.empty(shape_ccpa)\n",
    "# state_id[...] = np.nan\n",
    "\n",
    "# for i in range(shape_ccpa[0]):\n",
    "#     for j in range(shape_ccpa[1]):\n",
    "#         result = us.from_coords(lat_CCPA[i, j], lon_CCPA[i, j])\n",
    "#         if len(result) > 0:\n",
    "#             name = result[0].name\n",
    "#             name = name.replace(\" \", \"_\")\n",
    "#             if name == 'Virginia':\n",
    "#                 state_id[i, j] = 43\n",
    "#             elif name == 'West_Virginia':\n",
    "#                 state_id[i, j] = 45\n",
    "#             else:\n",
    "#                 state_id[i, j] = str_search(state_names_match, [name,])[0]\n",
    "\n",
    "# tuple_save = (lon_CCPA, lat_CCPA, elev_CCPA, land_mask_CCPA, state_id)\n",
    "# label_save = ['lon_CCPA', 'lat_CCPA', 'elev_CCPA', 'land_mask_CCPA', 'state_id']\n",
    "# du.save_hdf5(tuple_save, label_save, save_dir, 'CCPA_domain_backup.hdf')"
   ]
  },
  {
   "cell_type": "code",
   "execution_count": 66,
   "id": "75bac8a0-df08-4a15-b44b-b19b7bb76808",
   "metadata": {},
   "outputs": [],
   "source": [
    "with h5py.File(save_dir+'CCPA_domain_backup.hdf', 'r') as h5io:\n",
    "    state_id = h5io['state_id'][...]\n",
    "    lon_CCPA = h5io['lon_CCPA'][...]\n",
    "    lat_CCPA = h5io['lat_CCPA'][...]\n",
    "    elev_CCPA = h5io['elev_CCPA'][...]\n",
    "    land_mask_CCPA = h5io['land_mask_CCPA'][...]\n",
    "\n",
    "#state_id[98:100, 360:400] = 43\n",
    "state_id[state_id==9999] = np.nan\n",
    "state_id[land_mask_CCPA==0] = np.nan\n",
    "\n",
    "state_id[69, 176:175+69] = 40\n",
    "state_id[70, 244:270] = 2"
   ]
  },
  {
   "cell_type": "code",
   "execution_count": 67,
   "id": "d704389c-a6a4-4d80-92a3-e6fc682e13f9",
   "metadata": {},
   "outputs": [
    {
     "data": {
      "text/plain": [
       "<matplotlib.collections.QuadMesh at 0x1547d98895d0>"
      ]
     },
     "execution_count": 67,
     "metadata": {},
     "output_type": "execute_result"
    },
    {
     "data": {
      "image/png": "[encoded data removed]",
      "text/plain": [
       "<Figure size 640x480 with 1 Axes>"
      ]
     },
     "metadata": {},
     "output_type": "display_data"
    }
   ],
   "source": [
    "plt.pcolormesh(state_id, cmap=plt.cm.RdBu_r)"
   ]
  },
  {
   "cell_type": "markdown",
   "id": "afa2d0d9-ea9f-4d7e-a86b-63596f7ba277",
   "metadata": {},
   "source": [
    "## Save everything"
   ]
  },
  {
   "cell_type": "code",
   "execution_count": 1,
   "id": "bfa3c1c7-143d-4935-a85d-307f54687148",
   "metadata": {},
   "outputs": [],
   "source": [
    "# tuple_save = (lon_CCPA, lat_CCPA, elev_CCPA, land_mask_CCPA, state_id)\n",
    "# label_save = ['lon_CCPA', 'lat_CCPA', 'elev_CCPA', 'land_mask_CCPA', 'state_id']\n",
    "# du.save_hdf5(tuple_save, label_save, save_dir, 'CCPA_domain.hdf')"
   ]
  },
  {
   "cell_type": "code",
   "execution_count": null,
   "id": "34ff454c-799e-4291-a953-3f6b4a70c622",
   "metadata": {},
   "outputs": [],
   "source": []
  }
 ],
 "metadata": {
  "kernelspec": {
   "display_name": "Python 3 (ipykernel)",
   "language": "python",
   "name": "python3"
  },
  "language_info": {
   "codemirror_mode": {
    "name": "ipython",
    "version": 3
   },
   "file_extension": ".py",
   "mimetype": "text/x-python",
   "name": "python",
   "nbconvert_exporter": "python",
   "pygments_lexer": "ipython3",
   "version": "3.10.13"
  }
 },
 "nbformat": 4,
 "nbformat_minor": 5
}
