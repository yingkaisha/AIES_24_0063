{
 "cells": [
  {
   "cell_type": "markdown",
   "id": "3a414f2d-8b54-4659-ab2b-b9ff5b5a4259",
   "metadata": {},
   "source": [
    "# Generate training samples for LDM\n",
    "\n",
    "This notebook geneerate training samples (batch size = 1) for LDM.\n",
    "* Training and validation samples were generated.\n",
    "* Samples were saved as .npy files; their file names contain the datetime information."
   ]
  },
  {
   "cell_type": "code",
   "execution_count": 1,
   "id": "df2ef1ec-9b90-4574-8ed9-806573e0ba76",
   "metadata": {},
   "outputs": [],
   "source": [
    "import os\n",
    "import sys\n",
    "import time\n",
    "import h5py\n",
    "import numpy as np\n",
    "from glob import glob\n",
    "from datetime import datetime, timedelta\n",
    "\n",
    "# ------------------------------------------------------- #\n",
    "# Turn-off warnings\n",
    "import logging\n",
    "import warnings\n",
    "\n",
    "warnings.filterwarnings(\"ignore\")\n",
    "os.environ['TF_CPP_MIN_LOG_LEVEL'] = '3' \n",
    "logging.getLogger(\"tensorflow\").setLevel(logging.ERROR)\n",
    "\n",
    "# ------------------------------------------------------- #\n",
    "# Turn-off tensoflow-specific warnings\n",
    "import tensorflow as tf\n",
    "from tensorflow import keras\n",
    "from tensorflow.keras import layers\n",
    "\n",
    "tf.autograph.set_verbosity(0)\n",
    "tf.get_logger().setLevel('ERROR')\n",
    "\n",
    "# ------------------------------------------------------- #\n",
    "# Import customized modules and settings\n",
    "sys.path.insert(0, '/glade/u/home/ksha/GAN_proj/')\n",
    "sys.path.insert(0, '/glade/u/home/ksha/GAN_proj/libs/')\n",
    "\n",
    "from namelist import *\n",
    "import data_utils as du\n",
    "import model_utils as mu"
   ]
  },
  {
   "cell_type": "code",
   "execution_count": 2,
   "id": "ae6cd660-668e-4659-9aae-914824eb7a76",
   "metadata": {},
   "outputs": [],
   "source": [
    "import matplotlib.pyplot as plt\n",
    "%matplotlib inline"
   ]
  },
  {
   "cell_type": "code",
   "execution_count": 3,
   "id": "9558a6ba-79e8-4b07-86f7-a461742f7a81",
   "metadata": {},
   "outputs": [],
   "source": [
    "def norm_precip(x):\n",
    "    return np.log(0.1*x+1)"
   ]
  },
  {
   "cell_type": "markdown",
   "id": "979438cf-134b-4fa6-a237-0216e83fd9aa",
   "metadata": {},
   "source": [
    "## Import VQ-VAE encoder"
   ]
  },
  {
   "cell_type": "code",
   "execution_count": 4,
   "id": "c08741a5-b988-4a78-86f1-f18960decbf8",
   "metadata": {},
   "outputs": [],
   "source": [
    "# Hyperparameters\n",
    "filter_nums = [64, 128] # number of convolution kernels per down-/upsampling layer \n",
    "latent_dim = 4 # number of latent feature channels\n",
    "activation = 'gelu' # activation function\n",
    "num_embeddings = 128 #128 # number of the VQ codes\n",
    "\n",
    "input_size = (224, 464, 1) # size of MRMS input\n",
    "latent_size = (14, 29, latent_dim) # size of compressed latent features\n",
    "\n",
    "drop_encode = True\n",
    "drop_decode = True\n",
    "\n",
    "# location for saving new weights\n",
    "model_name_encoder_load = model_dir+'models/VQ_VAE_encoder_stack1_tune0'\n",
    "model_name_decoder_load = model_dir+'models/VQ_VAE_decoder_stack1_tune0'\n",
    "\n",
    "model_encoder = mu.VQ_VAE_encoder_x4(input_size, filter_nums, latent_dim, num_embeddings, activation, drop_encode)\n",
    "\n",
    "W_old = mu.dummy_loader(model_name_encoder_load)\n",
    "model_encoder.set_weights(W_old)"
   ]
  },
  {
   "cell_type": "markdown",
   "id": "9293af4e-95b2-4337-bce6-511c005b072e",
   "metadata": {},
   "source": [
    "## Generate training samples\n",
    "\n",
    "* Locations: `$camp_dir/BATCH_LDM/`"
   ]
  },
  {
   "cell_type": "code",
   "execution_count": 5,
   "id": "d312e4d7-cc5e-42de-8e53-ee0a15c6196f",
   "metadata": {},
   "outputs": [],
   "source": [
    "BATCH_dir = camp_dir+'BATCH_LDM_NEW/'\n",
    "batch_name = 'LDM_{}.npy' #.format(datetime)\n",
    "\n",
    "LEADs = np.arange(6, 168+6, 6) # forecast lead times\n",
    "N_leads = len(LEADs)\n",
    "\n",
    "grid_shape = (N_leads, 14, 29, 4)\n",
    "ccpa_shape = (224, 464)\n",
    "\n",
    "with h5py.File(save_dir+'CCPA_domain.hdf', 'r') as h5io:\n",
    "    land_mask_CCPA = h5io['land_mask_CCPA'][...]\n",
    "land_mask_CCPA = land_mask_CCPA == 0"
   ]
  },
  {
   "cell_type": "code",
   "execution_count": 6,
   "id": "a65a4a5a-4025-4b54-ae90-779a73affcf9",
   "metadata": {},
   "outputs": [],
   "source": [
    "year = 2002\n",
    "\n",
    "# ------------------------------------------------------- #\n",
    "# Datetime information\n",
    "\n",
    "base = datetime(year, 1, 1)\n",
    "\n",
    "if year % 4 == 0:\n",
    "    N_days = 366\n",
    "else:\n",
    "    N_days = 365\n",
    "\n",
    "date_list = [base + timedelta(days=d) for d in range(N_days)]"
   ]
  },
  {
   "cell_type": "code",
   "execution_count": 7,
   "id": "e300fcf0-d599-46b0-b815-829b85a2c250",
   "metadata": {},
   "outputs": [],
   "source": [
    "filename_gefs = camp_dir+'GFS_reforecast/GEFS_AVE_y{}.hdf'\n",
    "filename_ccpa = camp_dir+'CCPA/CCPA_y{}.hdf'\n",
    "\n",
    "with h5py.File(filename_gefs.format(year), 'r') as h5io:\n",
    "    GEFS = h5io['GEFS_APCP'][...] \n",
    "\n",
    "with h5py.File(filename_ccpa.format(year), 'r') as h5io:\n",
    "    CCPA_base = h5io['CCPA'][...]\n",
    "L_base = len(CCPA_base)\n",
    "\n",
    "# forecast lead times can exceed one year\n",
    "N_beyond = 5\n",
    "N_total = L_base + N_beyond\n",
    "with h5py.File(filename_ccpa.format(year+1), 'r') as h5io:\n",
    "    CCPA_extra = h5io['CCPA'][:N_beyond, ...]\n",
    "\n",
    "CCPA = np.concatenate((CCPA_base, CCPA_extra), axis=0)\n",
    "\n",
    "GEFS = norm_precip(GEFS)\n",
    "CCPA = norm_precip(CCPA)\n",
    "\n",
    "GEFS[:, :, land_mask_CCPA] = 0.0\n",
    "CCPA[:, :, land_mask_CCPA] = 0.0"
   ]
  },
  {
   "cell_type": "markdown",
   "id": "332c73f0-0174-4c3e-ba10-e3b1717da2ed",
   "metadata": {},
   "source": [
    "### Import ViT"
   ]
  },
  {
   "cell_type": "code",
   "execution_count": 8,
   "id": "7cce87c4-64ba-4fc1-8f70-6011f6bd2104",
   "metadata": {},
   "outputs": [],
   "source": [
    "def ViT_pred(x, model_48, model_96, model_144):\n",
    "    Y_pred_48 = model_48.predict(x[0:8, ...][None, ...], verbose=0)\n",
    "    Y_pred_96 = model_96.predict(x[8:16, ...][None, ...], verbose=0)\n",
    "    Y_pred_144 = model_144.predict(x[16:24, ...][None, ...], verbose=0)\n",
    "    Y_pred = np.concatenate((Y_pred_48, Y_pred_96, Y_pred_144), axis=1)\n",
    "    return Y_pred[0, ...]"
   ]
  },
  {
   "cell_type": "code",
   "execution_count": 9,
   "id": "d7cef962-5a87-4bad-bb66-5ee1fd999012",
   "metadata": {},
   "outputs": [],
   "source": [
    "# The tensor size of embedded CCPA and GEFS ensemble mean \n",
    "latent_size = (14, 29, 4)\n",
    "# input size for the 48h models\n",
    "input_size = (8,) + latent_size\n",
    "\n",
    "# patch size\n",
    "patch_size = (1, 1, 1) # (time, space, space)\n",
    "\n",
    "N_heads = 4\n",
    "N_layers = 8\n",
    "project_dim = 128\n",
    "\n",
    "# location of the previous weights\n",
    "model_name_load = model_dir+'models/ViT3d_0_48_depth{}_patch{}{}{}_dim{}_heads{}_tune'.format(\n",
    "    N_layers, patch_size[0], patch_size[1], patch_size[2], project_dim, N_heads)"
   ]
  },
  {
   "cell_type": "code",
   "execution_count": 10,
   "id": "822e3029-f110-4ad1-9fef-38a96b64ac56",
   "metadata": {},
   "outputs": [],
   "source": [
    "ViT = mu.ViT3d_corrector(input_size, patch_size, project_dim, N_layers, N_heads)\n",
    "\n",
    "W_old = mu.dummy_loader(model_name_load)\n",
    "ViT.set_weights(W_old)"
   ]
  },
  {
   "cell_type": "markdown",
   "id": "3437d1dd-1fe9-4120-ad10-d672ca1dc498",
   "metadata": {},
   "source": [
    "## Generate training batches"
   ]
  },
  {
   "cell_type": "code",
   "execution_count": 1,
   "id": "32009919-781c-41fe-9ea6-6af01aab0b9b",
   "metadata": {},
   "outputs": [],
   "source": [
    "GEFS_embed = np.empty(grid_shape)\n",
    "CCPA_embed = np.empty(grid_shape)\n",
    "CCPA_true = np.empty((N_leads,)+land_mask_CCPA.shape)\n",
    "\n",
    "for d, dt in enumerate(date_list):\n",
    "    dt_str = datetime.strftime(dt, '%Y%m%d')\n",
    "    GEFS_embed[...] = np.nan\n",
    "    CCPA_embed[...] = np.nan\n",
    "    \n",
    "    for ilead, lead in enumerate(LEADs):\n",
    "        d_ = lead // 24; day = d + d_\n",
    "        ind_hour = lead % 24; ind_hour = int(ind_hour/6)\n",
    "\n",
    "        CCPA_true[ilead, ...] = CCPA[day, ind_hour, ...]\n",
    "        ccpa_input = CCPA[day, ind_hour, ...][None, ..., None]\n",
    "        gefs_input = GEFS[d, ilead, ...][None, ..., None]\n",
    "\n",
    "        if np.sum(np.isnan(ccpa_input)) + np.sum(np.isnan(gefs_input)) == 0:\n",
    "            CCPA_embed[ilead, ...] = model_encoder.predict(ccpa_input, verbose=0)[0, ...]\n",
    "            GEFS_embed[ilead, ...] = model_encoder.predict(gefs_input, verbose=0)[0, ...]\n",
    "        else:\n",
    "            CCPA_embed[ilead, ...] = np.nan\n",
    "            GEFS_embed[ilead, ...] = np.nan\n",
    "\n",
    "    if np.sum(np.isnan(CCPA_embed)) + np.sum(np.isnan(GEFS_embed)) == 0:\n",
    "        ViT_embed = ViT_pred(GEFS_embed, ViT, ViT, ViT)\n",
    "        \n",
    "        data_save = {}\n",
    "        data_save['CCPA_true'] = CCPA_true\n",
    "        data_save['CCPA_embed'] = CCPA_embed\n",
    "        data_save['GEFS_embed'] = GEFS_embed\n",
    "        data_save['ViT_embed'] = ViT_embed\n",
    "        save_name_ = BATCH_dir+batch_name.format(dt_str)\n",
    "        print(save_name_)\n",
    "        np.save(save_name_, data_save)\n",
    "        if d == 5:\n",
    "            raise"
   ]
  },
  {
   "cell_type": "markdown",
   "id": "371faca8-6743-4f6c-8712-892478fe9be4",
   "metadata": {},
   "source": [
    "### Check batch quality"
   ]
  },
  {
   "cell_type": "code",
   "execution_count": 17,
   "id": "71d802d6-16c4-4927-87a6-69b79f541348",
   "metadata": {},
   "outputs": [
    {
     "data": {
      "text/plain": [
       "<matplotlib.collections.QuadMesh at 0x14d1a5208940>"
      ]
     },
     "execution_count": 17,
     "metadata": {},
     "output_type": "execute_result"
    },
    {
     "data": {
      "image/png": "[encoded data removed]",
      "text/plain": [
       "<Figure size 640x480 with 1 Axes>"
      ]
     },
     "metadata": {},
     "output_type": "display_data"
    }
   ],
   "source": [
    "plt.pcolormesh(data_save['CCPA_embed'][0, ..., 0], vmin=-0.1, vmax=0.1, cmap=plt.cm.RdBu_r)"
   ]
  },
  {
   "cell_type": "code",
   "execution_count": 16,
   "id": "53f34363-3560-40ff-96c0-8dd0f210ccda",
   "metadata": {},
   "outputs": [
    {
     "data": {
      "text/plain": [
       "<matplotlib.collections.QuadMesh at 0x14d1a545af50>"
      ]
     },
     "execution_count": 16,
     "metadata": {},
     "output_type": "execute_result"
    },
    {
     "data": {
      "image/png": "[encoded data removed]",
      "text/plain": [
       "<Figure size 640x480 with 1 Axes>"
      ]
     },
     "metadata": {},
     "output_type": "display_data"
    }
   ],
   "source": [
    "plt.pcolormesh(data_save['CCPA_true'][0, ...], vmin=0, vmax=1, cmap=plt.cm.RdBu_r)"
   ]
  },
  {
   "cell_type": "code",
   "execution_count": 15,
   "id": "bf49046f-ad8e-4abd-ab64-fdf25209b2c3",
   "metadata": {},
   "outputs": [
    {
     "data": {
      "text/plain": [
       "(28, 224, 464)"
      ]
     },
     "execution_count": 15,
     "metadata": {},
     "output_type": "execute_result"
    }
   ],
   "source": [
    "data_save['CCPA_true'].shape"
   ]
  },
  {
   "cell_type": "code",
   "execution_count": null,
   "id": "67ff369f-f30a-44bf-a1e7-42c08cf3ab24",
   "metadata": {},
   "outputs": [],
   "source": []
  }
 ],
 "metadata": {
  "kernelspec": {
   "display_name": "Python 3 (ipykernel)",
   "language": "python",
   "name": "python3"
  },
  "language_info": {
   "codemirror_mode": {
    "name": "ipython",
    "version": 3
   },
   "file_extension": ".py",
   "mimetype": "text/x-python",
   "name": "python",
   "nbconvert_exporter": "python",
   "pygments_lexer": "ipython3",
   "version": "3.10.13"
  }
 },
 "nbformat": 4,
 "nbformat_minor": 5
}
