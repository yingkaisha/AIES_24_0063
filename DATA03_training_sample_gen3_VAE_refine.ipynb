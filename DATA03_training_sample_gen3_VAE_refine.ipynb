{
 "cells": [
  {
   "cell_type": "markdown",
   "id": "3a414f2d-8b54-4659-ab2b-b9ff5b5a4259",
   "metadata": {},
   "source": [
    "# Generate training samples for VQ-VAE\n",
    "\n",
    "This notebook geneerate training samples (batch size = 1) for VQ-VAE.\n",
    "* All samples, including testing set samples were generated.\n",
    "* Samples were saved as .npy files; their file names contain the datetime information, so the testing samplles will not be touched."
   ]
  },
  {
   "cell_type": "code",
   "execution_count": 1,
   "id": "df2ef1ec-9b90-4574-8ed9-806573e0ba76",
   "metadata": {},
   "outputs": [],
   "source": [
    "import os\n",
    "import sys\n",
    "import time\n",
    "import h5py\n",
    "import numpy as np\n",
    "from glob import glob\n",
    "\n",
    "# ------------------------------------------------------- #\n",
    "# Turn-off warnings\n",
    "import logging\n",
    "import warnings\n",
    "\n",
    "warnings.filterwarnings(\"ignore\")\n",
    "os.environ['TF_CPP_MIN_LOG_LEVEL'] = '3' \n",
    "logging.getLogger(\"tensorflow\").setLevel(logging.ERROR)\n",
    "\n",
    "# ------------------------------------------------------- #\n",
    "# Turn-off tensoflow-specific warnings\n",
    "import tensorflow as tf\n",
    "from tensorflow import keras\n",
    "from tensorflow.keras import layers\n",
    "\n",
    "tf.autograph.set_verbosity(0)\n",
    "tf.get_logger().setLevel('ERROR')\n",
    "\n",
    "# ------------------------------------------------------- #\n",
    "# Import customized modules and settings\n",
    "sys.path.insert(0, '/glade/u/home/ksha/GAN_proj/')\n",
    "sys.path.insert(0, '/glade/u/home/ksha/GAN_proj/libs/')\n",
    "\n",
    "from namelist import *\n",
    "import data_utils as du\n",
    "import model_utils as mu"
   ]
  },
  {
   "cell_type": "code",
   "execution_count": 2,
   "id": "ae6cd660-668e-4659-9aae-914824eb7a76",
   "metadata": {},
   "outputs": [],
   "source": [
    "import matplotlib.pyplot as plt\n",
    "%matplotlib inline"
   ]
  },
  {
   "cell_type": "markdown",
   "id": "85218783-5506-4219-94ed-af61b0a36162",
   "metadata": {},
   "source": [
    "# VQ-VAE backbone"
   ]
  },
  {
   "cell_type": "code",
   "execution_count": 3,
   "id": "f0b6209a-773e-4ff7-9f2f-39e23077308b",
   "metadata": {},
   "outputs": [],
   "source": [
    "# Hyperparameters\n",
    "filter_nums = [64, 128] # number of convolution kernels per down-/upsampling layer \n",
    "latent_dim = 4 # number of latent feature channels\n",
    "activation = 'gelu' # activation function\n",
    "num_embeddings = 128 #128 # number of the VQ codes\n",
    "\n",
    "input_size = (224, 464, 1) # size of MRMS input\n",
    "latent_size = (14, 29, latent_dim) # size of compressed latent features\n",
    "\n",
    "drop_encode = False\n",
    "drop_decode = False\n",
    "\n",
    "model_name_encoder_load = model_dir+'models/VQ_VAE_encoder_stack1_tune0'\n",
    "model_name_decoder_load = model_dir+'models/VQ_VAE_decoder_stack1_tune0'\n",
    "\n",
    "encoder = mu.VQ_VAE_encoder(input_size, filter_nums, latent_dim, num_embeddings, activation, drop_encode)\n",
    "\n",
    "W_old = mu.dummy_loader(model_name_encoder_load)\n",
    "encoder.set_weights(W_old)\n",
    "\n",
    "decoder = mu.VQ_VAE_decoder(latent_size, filter_nums, activation, drop_decode)\n",
    "\n",
    "W_old = mu.dummy_loader(model_name_decoder_load)\n",
    "decoder.set_weights(W_old)"
   ]
  },
  {
   "cell_type": "code",
   "execution_count": 4,
   "id": "82bc09b3-157d-4512-ae51-499af903a542",
   "metadata": {},
   "outputs": [],
   "source": [
    "# Connect the encoder and decoder\n",
    "X = keras.Input(shape=input_size)\n",
    "X_encode = encoder(X)\n",
    "X_decode = decoder(X_encode)\n",
    "VQ_VAE = keras.Model(X, X_decode)"
   ]
  },
  {
   "cell_type": "markdown",
   "id": "9293af4e-95b2-4337-bce6-511c005b072e",
   "metadata": {},
   "source": [
    "## Generate training samples\n",
    "\n",
    "* Locations: `$camp_dir+BATCH_dscale/`\n",
    "* Normalization:\n",
    "```python\n",
    "apcp = np.log(0.1*apcp+1)\n",
    "```"
   ]
  },
  {
   "cell_type": "code",
   "execution_count": 5,
   "id": "3b6a3739-edc7-4610-a935-7e8de5dd04c2",
   "metadata": {},
   "outputs": [],
   "source": [
    "def norm_precip(x):\n",
    "    return np.log(0.1*x+1)\n",
    "\n",
    "def norm_elev(x):\n",
    "    return x / np.nanmax(x)"
   ]
  },
  {
   "cell_type": "code",
   "execution_count": 6,
   "id": "6beb6d4e-c78d-4032-a926-4cb438cd1e82",
   "metadata": {},
   "outputs": [],
   "source": [
    "with h5py.File(save_dir+'CCPA_domain.hdf', 'r') as h5io:\n",
    "    land_mask_CCPA = h5io['land_mask_CCPA'][...]\n",
    "    elev_CCPA = h5io['elev_CCPA'][...]\n",
    "    \n",
    "land_mask = land_mask_CCPA == 1.0\n",
    "ocean_mask = land_mask_CCPA == 0.0\n",
    "grid_shape = land_mask.shape\n",
    "\n",
    "elev_CCPA[ocean_mask] = 0\n",
    "elev_CCPA[elev_CCPA<0] = 0\n",
    "elev_CCPA = norm_elev(elev_CCPA)"
   ]
  },
  {
   "cell_type": "code",
   "execution_count": 7,
   "id": "ebaaa7de-5c5c-4177-972b-d874c6bbd5fb",
   "metadata": {},
   "outputs": [],
   "source": [
    "with h5py.File(camp_dir+'CCPA/CCPA_CDFs_2002_2019.hdf', 'r') as h5io:\n",
    "    CCPA_CDFs = h5io['CCPA_CDFs'][...]\n",
    "CCPA_CDFs_99 = norm_precip(CCPA_CDFs[99, ...])\n",
    "CCPA_CDFs_99[ocean_mask, :] = 0"
   ]
  },
  {
   "cell_type": "code",
   "execution_count": 1,
   "id": "19db9787-024a-4f22-a379-23fc04b38838",
   "metadata": {},
   "outputs": [],
   "source": [
    "BATCH_dir = camp_dir+'BATCH_dscale/'\n",
    "batch_name = 'CCPA_y{}_d{:03d}_h{}.npy' #.format(datetime, hour-of-day)\n",
    "\n",
    "filename_ccpa = camp_dir+'CCPA/CCPA_y{}.hdf'\n",
    "batch_save = np.empty(grid_shape+(4,))\n",
    "\n",
    "for year in range(2002, 2022):\n",
    "    print('Batch gen year: {}'.format(year))\n",
    "    \n",
    "    with h5py.File(filename_ccpa.format(year), 'r') as h5io:\n",
    "        CCPA = h5io['CCPA'][...]\n",
    "        \n",
    "    N_days = len(CCPA)\n",
    "    \n",
    "    for i6hour in range(4):\n",
    "        CCPA_input = norm_precip(CCPA[:, i6hour, ...])\n",
    "        CCPA_input[:, ocean_mask] = 0.0\n",
    "        \n",
    "        CCPA_VAE = VQ_VAE.predict(CCPA_input[..., None], verbose=0)[..., 0]\n",
    "        CCPA_VAE[CCPA_VAE<0] = 0\n",
    "        CCPA_VAE[:, ocean_mask] = 0\n",
    "        \n",
    "        CCPA_CDFs_99_ = CCPA_CDFs_99[..., i6hour]\n",
    "        for iday in range(N_days):\n",
    "            batch_save[...] = np.nan\n",
    "            batch_save[..., 0] = CCPA_VAE[iday, ...]\n",
    "            batch_save[..., 1] = elev_CCPA\n",
    "            batch_save[..., 2] = CCPA_CDFs_99_\n",
    "            batch_save[..., 3] = CCPA_input[iday, ...]\n",
    "\n",
    "            save_name = BATCH_dir+batch_name.format(year, iday, i6hour)\n",
    "            if np.sum(np.isnan(batch_save)) > 0:\n",
    "                print('NaNs --> {}'.format(save_name))\n",
    "            else:\n",
    "                # print(save_name)\n",
    "                np.save(save_name, batch_save)"
   ]
  },
  {
   "cell_type": "markdown",
   "id": "e886453f-c301-4811-8c45-541edd74d8a9",
   "metadata": {},
   "source": [
    "### Check batch quality"
   ]
  },
  {
   "cell_type": "code",
   "execution_count": 61,
   "id": "d987dd32-34b0-46ac-aa91-9741e985c605",
   "metadata": {},
   "outputs": [
    {
     "data": {
      "text/plain": [
       "<matplotlib.collections.QuadMesh at 0x14ee0dee74f0>"
      ]
     },
     "execution_count": 61,
     "metadata": {},
     "output_type": "execute_result"
    },
    {
     "data": {
      "image/png": "[encoded data removed]",
      "text/plain": [
       "<Figure size 640x480 with 1 Axes>"
      ]
     },
     "metadata": {},
     "output_type": "display_data"
    }
   ],
   "source": [
    "plt.pcolormesh(batch_save[..., 3], cmap=plt.cm.nipy_spectral_r)"
   ]
  },
  {
   "cell_type": "code",
   "execution_count": null,
   "id": "bf49046f-ad8e-4abd-ab64-fdf25209b2c3",
   "metadata": {},
   "outputs": [],
   "source": []
  }
 ],
 "metadata": {
  "kernelspec": {
   "display_name": "Python 3 (ipykernel)",
   "language": "python",
   "name": "python3"
  },
  "language_info": {
   "codemirror_mode": {
    "name": "ipython",
    "version": 3
   },
   "file_extension": ".py",
   "mimetype": "text/x-python",
   "name": "python",
   "nbconvert_exporter": "python",
   "pygments_lexer": "ipython3",
   "version": "3.10.13"
  }
 },
 "nbformat": 4,
 "nbformat_minor": 5
}
