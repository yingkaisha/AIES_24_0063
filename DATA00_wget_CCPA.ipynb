{
 "cells": [
  {
   "cell_type": "markdown",
   "id": "a0d95b56-6124-4f90-8183-c17f90af1aa1",
   "metadata": {},
   "source": [
    "# CCPA wget cmd generator\n",
    "\n",
    "This notebook generates qsub scripts to download CCPA\n",
    "* Source: https://ftp.emc.ncep.noaa.gov/gc_wmb/yluo/"
   ]
  },
  {
   "cell_type": "code",
   "execution_count": 1,
   "id": "e4e88911-1838-477d-934a-391f92d0d53f",
   "metadata": {},
   "outputs": [],
   "source": [
    "import os\n",
    "import numpy as np\n",
    "from datetime import datetime, timedelta"
   ]
  },
  {
   "cell_type": "code",
   "execution_count": null,
   "id": "6f632ca1-54dd-47f1-9870-7c488db4f854",
   "metadata": {},
   "outputs": [],
   "source": [
    "import sys\n",
    "sys.path.insert(0, '/glade/u/home/ksha/GAN_proj/')\n",
    "from namelist import *"
   ]
  },
  {
   "cell_type": "code",
   "execution_count": 3,
   "id": "14921191-abd5-4e15-ae37-ea6780b4db41",
   "metadata": {},
   "outputs": [],
   "source": [
    "# check if files exist\n",
    "date_list_fill = []\n",
    "YEARs = np.arange(2002, 2023, 1)\n",
    "MONs = np.arange(1, 13, 1)\n",
    "\n",
    "for year in YEARs:\n",
    "    for mon in MONs:\n",
    "        filename = camp_dir+'wget_CCPA/year{}_mon{:02d}_done.txt'.format(year, mon)\n",
    "        if os.path.isfile(filename):\n",
    "            continue;\n",
    "        else:\n",
    "            date_list_fill.append(filename)\n",
    "    "
   ]
  },
  {
   "cell_type": "code",
   "execution_count": 4,
   "id": "ca3c5879-bfe7-4a8b-b25a-a313f8075231",
   "metadata": {},
   "outputs": [
    {
     "name": "stdout",
     "output_type": "stream",
     "text": [
      "need to download 0 files\n"
     ]
    }
   ],
   "source": [
    "L_fill = len(date_list_fill)\n",
    "print('need to download {} files'.format(L_fill))\n",
    "#date_list_fill = date_list_fill[::-1]"
   ]
  },
  {
   "cell_type": "markdown",
   "id": "81cd5a66-03ad-4a93-9c80-5580a7420e72",
   "metadata": {},
   "source": [
    "## Print download links"
   ]
  },
  {
   "cell_type": "code",
   "execution_count": 29,
   "id": "2146c7b7-fa47-487e-8ff2-206ea4fb25d9",
   "metadata": {},
   "outputs": [],
   "source": [
    "for year in YEARs:\n",
    "    for mon in MONs:\n",
    "        download_link = 'https://ftp.emc.ncep.noaa.gov/gc_wmb/yluo/CCPA_v2/0.125d/{}/ccpa_conus_v2_0.125d.{}{:02d}.tar.gz'.format(\n",
    "                year, year, mon)\n",
    "        \n",
    "        print('wget -L -O CCPA_0125_{}{:02d}.tar.gz {}'.format(year, mon, download_link))\n",
    "        print('tar -xvzf CCPA_0125_{}{:02d}.tar.gz'.format(year, mon))\n",
    "        print('touch year{}_mon{:02d}_done.txt'.format(year, mon))"
   ]
  },
  {
   "cell_type": "code",
   "execution_count": null,
   "id": "282a4c16-d2ed-46eb-832d-64e3d18eb241",
   "metadata": {},
   "outputs": [],
   "source": []
  }
 ],
 "metadata": {
  "kernelspec": {
   "display_name": "Python 3 (ipykernel)",
   "language": "python",
   "name": "python3"
  },
  "language_info": {
   "codemirror_mode": {
    "name": "ipython",
    "version": 3
   },
   "file_extension": ".py",
   "mimetype": "text/x-python",
   "name": "python",
   "nbconvert_exporter": "python",
   "pygments_lexer": "ipython3",
   "version": "3.10.13"
  }
 },
 "nbformat": 4,
 "nbformat_minor": 5
}
